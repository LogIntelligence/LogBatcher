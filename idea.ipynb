{
 "cells": [
  {
   "cell_type": "markdown",
   "metadata": {},
   "source": [
    "## DBCSAN Clustering\n",
    "`另一种聚类方式：将所有数字替换为0，不经过分词直接聚类`\n",
    "``` python\n",
    "re.sub(r'\\d+(\\.\\d+)?', '0', text)\n",
    "```"
   ]
  },
  {
   "cell_type": "code",
   "execution_count": 25,
   "metadata": {},
   "outputs": [
    {
     "name": "stdout",
     "output_type": "stream",
     "text": [
      "Processing BGL dataset...\n",
      "Processing HDFS dataset...\n",
      "Processing Linux dataset...\n"
     ]
    },
    {
     "name": "stderr",
     "output_type": "stream",
     "text": [
      "d:\\Develop\\anaconda\\envs\\langchain38\\lib\\site-packages\\sklearn\\feature_extraction\\text.py:525: UserWarning: The parameter 'token_pattern' will not be used since 'tokenizer' is not None'\n",
      "  warnings.warn(\n",
      "d:\\Develop\\anaconda\\envs\\langchain38\\lib\\site-packages\\sklearn\\feature_extraction\\text.py:525: UserWarning: The parameter 'token_pattern' will not be used since 'tokenizer' is not None'\n",
      "  warnings.warn(\n",
      "d:\\Develop\\anaconda\\envs\\langchain38\\lib\\site-packages\\sklearn\\feature_extraction\\text.py:525: UserWarning: The parameter 'token_pattern' will not be used since 'tokenizer' is not None'\n",
      "  warnings.warn(\n"
     ]
    },
    {
     "name": "stdout",
     "output_type": "stream",
     "text": [
      "Processing HealthApp dataset...\n",
      "Processing OpenStack dataset...\n",
      "Processing OpenSSH dataset...\n"
     ]
    },
    {
     "name": "stderr",
     "output_type": "stream",
     "text": [
      "d:\\Develop\\anaconda\\envs\\langchain38\\lib\\site-packages\\sklearn\\feature_extraction\\text.py:525: UserWarning: The parameter 'token_pattern' will not be used since 'tokenizer' is not None'\n",
      "  warnings.warn(\n",
      "d:\\Develop\\anaconda\\envs\\langchain38\\lib\\site-packages\\sklearn\\feature_extraction\\text.py:525: UserWarning: The parameter 'token_pattern' will not be used since 'tokenizer' is not None'\n",
      "  warnings.warn(\n",
      "d:\\Develop\\anaconda\\envs\\langchain38\\lib\\site-packages\\sklearn\\feature_extraction\\text.py:525: UserWarning: The parameter 'token_pattern' will not be used since 'tokenizer' is not None'\n",
      "  warnings.warn(\n"
     ]
    },
    {
     "name": "stdout",
     "output_type": "stream",
     "text": [
      "Processing Proxifier dataset...\n",
      "Processing HPC dataset...\n",
      "Processing Zookeeper dataset...\n"
     ]
    },
    {
     "name": "stderr",
     "output_type": "stream",
     "text": [
      "d:\\Develop\\anaconda\\envs\\langchain38\\lib\\site-packages\\sklearn\\feature_extraction\\text.py:525: UserWarning: The parameter 'token_pattern' will not be used since 'tokenizer' is not None'\n",
      "  warnings.warn(\n",
      "d:\\Develop\\anaconda\\envs\\langchain38\\lib\\site-packages\\sklearn\\feature_extraction\\text.py:525: UserWarning: The parameter 'token_pattern' will not be used since 'tokenizer' is not None'\n",
      "  warnings.warn(\n",
      "d:\\Develop\\anaconda\\envs\\langchain38\\lib\\site-packages\\sklearn\\feature_extraction\\text.py:525: UserWarning: The parameter 'token_pattern' will not be used since 'tokenizer' is not None'\n",
      "  warnings.warn(\n"
     ]
    },
    {
     "name": "stdout",
     "output_type": "stream",
     "text": [
      "Processing Mac dataset...\n",
      "Processing Hadoop dataset...\n"
     ]
    },
    {
     "name": "stderr",
     "output_type": "stream",
     "text": [
      "d:\\Develop\\anaconda\\envs\\langchain38\\lib\\site-packages\\sklearn\\feature_extraction\\text.py:525: UserWarning: The parameter 'token_pattern' will not be used since 'tokenizer' is not None'\n",
      "  warnings.warn(\n",
      "d:\\Develop\\anaconda\\envs\\langchain38\\lib\\site-packages\\sklearn\\feature_extraction\\text.py:525: UserWarning: The parameter 'token_pattern' will not be used since 'tokenizer' is not None'\n",
      "  warnings.warn(\n",
      "d:\\Develop\\anaconda\\envs\\langchain38\\lib\\site-packages\\sklearn\\feature_extraction\\text.py:525: UserWarning: The parameter 'token_pattern' will not be used since 'tokenizer' is not None'\n",
      "  warnings.warn(\n"
     ]
    },
    {
     "name": "stdout",
     "output_type": "stream",
     "text": [
      "Processing Android dataset...\n",
      "Processing Windows dataset...\n"
     ]
    },
    {
     "name": "stderr",
     "output_type": "stream",
     "text": [
      "d:\\Develop\\anaconda\\envs\\langchain38\\lib\\site-packages\\sklearn\\feature_extraction\\text.py:525: UserWarning: The parameter 'token_pattern' will not be used since 'tokenizer' is not None'\n",
      "  warnings.warn(\n",
      "d:\\Develop\\anaconda\\envs\\langchain38\\lib\\site-packages\\sklearn\\feature_extraction\\text.py:525: UserWarning: The parameter 'token_pattern' will not be used since 'tokenizer' is not None'\n",
      "  warnings.warn(\n",
      "d:\\Develop\\anaconda\\envs\\langchain38\\lib\\site-packages\\sklearn\\feature_extraction\\text.py:525: UserWarning: The parameter 'token_pattern' will not be used since 'tokenizer' is not None'\n",
      "  warnings.warn(\n"
     ]
    },
    {
     "name": "stdout",
     "output_type": "stream",
     "text": [
      "Processing Apache dataset...\n",
      "Processing Thunderbird dataset...\n",
      "Processing Spark dataset...\n"
     ]
    },
    {
     "name": "stderr",
     "output_type": "stream",
     "text": [
      "d:\\Develop\\anaconda\\envs\\langchain38\\lib\\site-packages\\sklearn\\feature_extraction\\text.py:525: UserWarning: The parameter 'token_pattern' will not be used since 'tokenizer' is not None'\n",
      "  warnings.warn(\n"
     ]
    }
   ],
   "source": [
    "import pandas as pd\n",
    "import re\n",
    "from utils.cluster import reassign_clusters, cluster, vectorize, tokenize,Cluster\n",
    "\n",
    "# select the dataset\n",
    "datasets = ['BGL', 'HDFS', 'Linux', 'HealthApp', 'OpenStack', 'OpenSSH', 'Proxifier', 'HPC', 'Zookeeper', 'Mac', 'Hadoop', 'Android', 'Windows', 'Apache', 'Thunderbird', 'Spark']\n",
    "num_list = []\n",
    "# datasets = ['OpenStack']\n",
    "for dataset in datasets:\n",
    "    print(f'Processing {dataset} dataset...')\n",
    "    # load the dataset\n",
    "    df = pd.read_csv(f'dataset/{dataset}/{dataset}_2k.log_structured_corrected.csv')\n",
    "    logs = df['Content'].tolist()\n",
    "    templates = df['EventTemplate'].tolist()\n",
    "\n",
    "    # tokenize -> vectorize -> cluster -> reassign_clusters\n",
    "    tokenized_logs = [tokenize(log) for log in logs]\n",
    "    labels, cluster_nums = cluster(vectorize(tokenized_logs))\n",
    "    num_list.append(cluster_nums)\n",
    "    # labels, cluster_nums = reassign_clusters(labels, cluster_nums, tokenized_logs)"
   ]
  },
  {
   "cell_type": "code",
   "execution_count": 27,
   "metadata": {},
   "outputs": [
    {
     "name": "stdout",
     "output_type": "stream",
     "text": [
      "[44, 11, 33, 25, 40, 28, 6, 26, 18, 107, 28, 61, 8, 6, 26, 16]\n",
      "24.3125\n"
     ]
    }
   ],
   "source": [
    "print(num_list)\n",
    "print((sum(num_list)-14-3-77)/len(num_list))"
   ]
  },
  {
   "cell_type": "code",
   "execution_count": 22,
   "metadata": {},
   "outputs": [
    {
     "name": "stdout",
     "output_type": "stream",
     "text": [
      "num of clusters: 61\n",
      "len of templates: 158\n",
      "cluster: 17\n",
      "length: 85\n",
      "template: HBM brightnessOut =<*>\n",
      "--------------------\n",
      "HBM brightnessOut =38\n",
      "========================================\n"
     ]
    }
   ],
   "source": [
    "print('num of clusters:', cluster_nums)\n",
    "print('len of templates:', len(set(templates)))\n",
    "\n",
    "# store the logs in the cluster\n",
    "inputs = []\n",
    "for i in range(cluster_nums):\n",
    "    inputs.append([-1, [], [], '']) # label, logs, indexs, ground_truth\n",
    "for i, label in enumerate(labels):\n",
    "    inputs[label][0] = label\n",
    "    inputs[label][1].append(logs[i])\n",
    "    inputs[label][2].append(i)\n",
    "    if inputs[label][3] == '':\n",
    "        inputs[label][3] = df['EventTemplate'][i]\n",
    "\n",
    "num = 17\n",
    "print('cluster:', num)\n",
    "print('length:', len(inputs[num][1]))\n",
    "print('template:', inputs[num][3])\n",
    "print('-'*20)\n",
    "for log in set(inputs[num][1]):\n",
    "    print(log)\n",
    "print('='*40)\n",
    "\n"
   ]
  },
  {
   "cell_type": "code",
   "execution_count": null,
   "metadata": {},
   "outputs": [],
   "source": [
    "# check the cluster k\n",
    "# k = 0\n",
    "# lengh_cluster = len(inputs[k][1])\n",
    "# print('cluster ', k)\n",
    "# print('length:', lengh_cluster)\n",
    "# print('template:', inputs[k][3])\n",
    "# print('-'*20)\n",
    "# for log in set(inputs[k][1]):\n",
    "#     print(log)\n",
    "\n",
    "#      len\n",
    "# Linux 0.5   tokenize '=' difference between (<*>) and () group first will help\n",
    "# HealthApp: 1   same length, 2 words different(80 logs) refine by difference of words will help\n",
    "# Zookeeper: 0 same length, 2 words different(12 logs)\n",
    "# Hadoop: 0 same length 1 words different(118 logs)\n",
    "# Spark: 0  same length 1 words different(149 logs)\n",
    "\n",
    "# good cluster datasets\n",
    "# HDFS OpenStack Proxifier HPC Mac Windows Apache Thunderbird\n",
    "# length solved datasets\n",
    "# BGL OpenSSH Android\n",
    "# "
   ]
  },
  {
   "cell_type": "markdown",
   "metadata": {},
   "source": [
    "## evaluate"
   ]
  },
  {
   "cell_type": "code",
   "execution_count": 2,
   "metadata": {},
   "outputs": [
    {
     "name": "stdout",
     "output_type": "stream",
     "text": [
      "        HDFS: group Accuracy: 1.0000, Message-Level Accuracy: 1.0000, Edit Distance: 0.0000\n",
      "      Hadoop: group Accuracy: 0.9860, Message-Level Accuracy: 0.8515, Edit Distance: 7.4530\n",
      "       Spark: group Accuracy: 0.9225, Message-Level Accuracy: 0.9105, Edit Distance: 1.9430\n",
      "   Zookeeper: group Accuracy: 0.9935, Message-Level Accuracy: 0.9825, Edit Distance: 0.2420\n",
      "         BGL: group Accuracy: 0.9815, Message-Level Accuracy: 0.9575, Edit Distance: 0.7840\n",
      "         HPC: group Accuracy: 0.8520, Message-Level Accuracy: 0.6380, Edit Distance: 3.4930\n",
      " Thunderbird: group Accuracy: 0.9815, Message-Level Accuracy: 0.9215, Edit Distance: 0.8130\n",
      "     Windows: group Accuracy: 0.9945, Message-Level Accuracy: 0.9730, Edit Distance: 0.7345\n",
      "       Linux: group Accuracy: 0.9330, Message-Level Accuracy: 0.6910, Edit Distance: 3.1410\n",
      "     Android: group Accuracy: 0.9640, Message-Level Accuracy: 0.5745, Edit Distance: 14.9910\n",
      "   HealthApp: group Accuracy: 0.8995, Message-Level Accuracy: 0.7650, Edit Distance: 6.3380\n",
      "      Apache: group Accuracy: 1.0000, Message-Level Accuracy: 0.9780, Edit Distance: 0.2300\n",
      "   Proxifier: group Accuracy: 1.0000, Message-Level Accuracy: 0.0255, Edit Distance: 16.8980\n",
      "     OpenSSH: group Accuracy: 0.6245, Message-Level Accuracy: 0.9635, Edit Distance: 0.3585\n",
      "   OpenStack: group Accuracy: 0.9680, Message-Level Accuracy: 0.4525, Edit Distance: 5.4830\n",
      "         Mac: group Accuracy: 0.7995, Message-Level Accuracy: 0.4370, Edit Distance: 14.5955\n",
      "avg---------: group Accuracy: 0.9313, Message-Level Accuracy: 0.7576, Edit Distance: 4.8436\n"
     ]
    }
   ],
   "source": [
    "import time\n",
    "from utils.evaluator import evaluate\n",
    "import pandas as pd\n",
    "datasets = ['BGL', 'HDFS', 'Linux', 'HealthApp', 'OpenStack', 'OpenSSH', 'Proxifier', 'HPC', 'Zookeeper', 'Mac', 'Hadoop', 'Android', 'Windows', 'Apache', 'Thunderbird', 'Spark']\n",
    "table_order = 'HDFS Hadoop Spark Zookeeper BGL HPC Thunderbird Windows Linux Android HealthApp Apache Proxifier OpenSSH OpenStack Mac'\n",
    "\n",
    "datasets = table_order.split(' ')\n",
    "m,n,p,q = [],[],[],[]\n",
    "for dataset in datasets:\n",
    "    file = f'outputs/parser/Test/{dataset}.csv'  # Fifth_=_0.1\n",
    "    # df = pd.read_csv(f'outputs/k_means/initial/{dataset}.csv')\n",
    "    # df2 =\n",
    "    a,b,c,d = evaluate(file, dataset,mismatch=True)\n",
    "    m.append(a)\n",
    "    n.append(b)\n",
    "    p.append(c)\n",
    "    q.append(d)\n",
    "\n",
    "print('avg---------: group Accuracy: %.4f, Message-Level Accuracy: %.4f, Edit Distance: %.4f' % (sum(m)/len(m), sum(n)/len(n), sum(p)/len(p)))"
   ]
  },
  {
   "cell_type": "code",
   "execution_count": 6,
   "metadata": {},
   "outputs": [
    {
     "name": "stdout",
     "output_type": "stream",
     "text": [
      "True\n"
     ]
    }
   ],
   "source": [
    "from utils.sample_byword import matches_template\n",
    "print(matches_template('Failed to start LSB: Bring up/down networking.', 'Failed to start LSB: Bring up/down networking.'))"
   ]
  },
  {
   "cell_type": "markdown",
   "metadata": {},
   "source": [
    "## Find similarity in all datasets"
   ]
  },
  {
   "cell_type": "code",
   "execution_count": null,
   "metadata": {},
   "outputs": [],
   "source": [
    "import pandas as pd\n",
    "from utils.cluster import tokenize\n",
    "from utils.sample_byword import extract_variables\n",
    "\n",
    "\n",
    "datasets = ['BGL', 'HDFS', 'Linux', 'HealthApp', 'OpenStack', 'OpenSSH', 'Proxifier', 'HPC', 'Zookeeper', 'Mac', 'Hadoop', 'Android', 'Windows', 'Apache', 'Thunderbird', 'Spark']\n",
    "\n",
    "count_logs = []\n",
    "count_templates = []\n",
    "\n",
    "for dataset in datasets:\n",
    "    print(f\"Processing {dataset} ----------------\")\n",
    "    df = pd.read_csv(f'dataset/{dataset}/{dataset}_2k.log_structured_corrected.csv')\n",
    "    logs = df['Content'].tolist()\n",
    "    templates = df['EventTemplate'].tolist()\n",
    "    for log, template in zip(logs, templates):\n",
    "        if template not in count_templates:\n",
    "            count_templates.append(template)\n",
    "            if any(char.isdigit() for char in template):\n",
    "                print(f\"{template}\")"
   ]
  },
  {
   "cell_type": "code",
   "execution_count": 17,
   "metadata": {},
   "outputs": [
    {
     "name": "stdout",
     "output_type": "stream",
     "text": [
      "2017-07-02 15:46:41.445 ksfetch[32435/0x7fff79824000] [lvl=2] main() ksfetch fetching URL (<NSMutableURLRequest: 0x1005110b0> { URL: https://tools.google.com/service/update2?cup2hreq=53f725cf03f511fab16f19e789ce64aa1eed72395fc246e9f1100748325002f4&cup2key=7:1132320327 }) to folder:/tmp/KSOutOfProcessFetcher.YH2CjY1tnx/download\n",
      "<*> ksfetch[<*>] [lvl=<*>] main() ksfetch fetching URL (<NSMutableURLRequest: <*> { URL: <*> }) to folder:<*>\n",
      "--------------------\n"
     ]
    }
   ],
   "source": [
    "from utils.demonstrations_sample import sample_based_on_entropy\n",
    "\n",
    "# datasets = ['BGL', 'HDFS', 'Linux', 'HealthApp', 'OpenStack', 'OpenSSH', 'Proxifier', 'HPC', 'Zookeeper', 'Mac',\n",
    "#         'Hadoop', 'Android', 'Windows', 'Apache', 'Thunderbird', 'Spark']\n",
    "# for dataset in datasets:\n",
    "#     pair = sample_based_on_entropy(dataset, 1)\n",
    "#     print(pair[0][0])\n",
    "dataset = 'HDFS'\n",
    "pairs = sample_based_on_entropy(dataset, 1)\n",
    "for pair in pairs:\n",
    "    print(f\"{pair[0][0]}\\n{pair[0][1]}\\n{'-'*20}\")"
   ]
  },
  {
   "cell_type": "markdown",
   "metadata": {},
   "source": [
    "Mutation\n",
    "```\n",
    "# if '3' in template:\n",
    "#     Count[3] += 1\n",
    "# if '4' in template:\n",
    "#     Count[4] += 1\n",
    "#     # Mac 15 + 28 + 5 + 18 + 10\n",
    "# if '5' in template:\n",
    "#     Count[5] += 1\n",
    "#     print(dataset, template)\n",
    "#     # 1 + 2\n",
    "# if '6' in template:\n",
    "#     Count[6] += 1\n",
    "#     # Mac 15 + 28 + 5 + 18 + 10\n",
    "```"
   ]
  },
  {
   "cell_type": "code",
   "execution_count": 4,
   "metadata": {},
   "outputs": [
    {
     "name": "stdout",
     "output_type": "stream",
     "text": [
      "PCI: Using IRQ router PIIX/ICH [<*>/<*>] at <*>\n",
      "appear 1 times in Linux\n",
      "My election bind port: <*>/<*>:<*>\n",
      "appear 1 times in Zookeeper\n",
      "<*>@<*>/<*>/<*>:<*>:<*>:<*> WcpInitialize (wcp.dll version <*>) called (stack @<*>)\n",
      "appear 6 times in Windows\n",
      "<*>@<*>/<*>/<*>:<*>:<*>:<*> CSI Transaction @<*> initialized for deployment engine {<*>} with flags <*> and client id [<*>]\"<*>/\"\n",
      "appear 1 times in Windows\n",
      "<*>@<*>/<*>/<*>:<*>:<*>:<*> CSI Transaction @<*> destroyed\n",
      "appear 1 times in Windows\n",
      "<*>@<*>/<*>/<*>:<*>:<*>:<*> PopulateComponentFamiliesKey - Begin\n",
      "appear 1 times in Windows\n",
      "<*>@<*>/<*>/<*>:<*>:<*>:<*> PopulateComponentFamiliesKey - End\n",
      "appear 1 times in Windows\n"
     ]
    }
   ],
   "source": [
    "from collections import Counter\n",
    "import pandas as pd\n",
    "import re\n",
    "from utils.cluster import tokenize\n",
    "\n",
    "\n",
    "\n",
    "datasets = ['BGL', 'HDFS', 'Linux', 'HealthApp', 'OpenStack', 'OpenSSH', 'Proxifier', 'HPC',\n",
    "'Zookeeper', 'Mac', 'Hadoop', 'Android', 'Windows', 'Apache', 'Thunderbird', 'Spark']\n",
    "\n",
    "\n",
    "a,b = 0,0\n",
    "pattern = r'^[a-zA-Z]+[0-9]+$'\n",
    "\n",
    "\n",
    "for dataset in datasets:\n",
    "    df = pd.read_csv(f'dataset/{dataset}/{dataset}_2k.log_structured_corrected.csv')\n",
    "    templates = df['EventTemplate'].tolist()\n",
    "    freq = Counter(templates)\n",
    "    list_read = []\n",
    "    for template in templates:\n",
    "        if template not in list_read:\n",
    "            tokens = tokenize(template)\n",
    "            list_read.append(template)\n",
    "            if '<*>/<*>' in template:\n",
    "                print(f\"{template}\\nappear {freq[template]} times in {dataset}\")\n",
    "\n"
   ]
  },
  {
   "cell_type": "code",
   "execution_count": 9,
   "metadata": {},
   "outputs": [
    {
     "name": "stdout",
     "output_type": "stream",
     "text": [
      "Processing BGL dataset...\n",
      "--------------------\n",
      "Processing HDFS dataset...\n",
      "--------------------\n",
      "Processing Linux dataset...\n",
      "--------------------\n",
      "authentication failure; logname= uid=<*> euid=<*> tty=<*> ruser= rhost=<*>  user=<*>\n",
      "authentication failure; logname= uid=<*> euid=<*> tty=<*> ruser= rhost=<*> user=<*>\n",
      "ROOT LOGIN ON <*>\n",
      "<*> LOGIN ON <*>\n",
      "ANONYMOUS FTP LOGIN FROM <*>,  (anonymous)\n",
      "ANONYMOUS FTP LOGIN FROM <*>, (anonymous)\n",
      "Kernel command line: ro root=<*>=<*> rhgb quiet\n",
      "Kernel command line: ro <*>=<*>=<*> rhgb quiet\n",
      "SELinux:  Initializing.\n",
      "SELinux: Initializing.\n",
      "SELinux:  Starting in permissive mode\n",
      "SELinux: Starting in permissive mode\n",
      "<*>:  Registering secondary module capability\n",
      "<*>: Registering secondary module capability\n",
      "Initializing random number generator:  succeeded\n",
      "Initializing random number generator: succeeded\n",
      "Starting pcmcia:  succeeded\n",
      "Starting pcmcia: succeeded\n",
      "Setting network parameters:  succeeded\n",
      "Setting network parameters: succeeded\n",
      "Bringing up loopback interface:  succeeded\n",
      "Bringing up loopback interface: succeeded\n",
      "SELinux:  Registering netfilter hooks\n",
      "SELinux: Registering netfilter hooks\n",
      "Processing HealthApp dataset...\n",
      "--------------------\n",
      "Processing OpenStack dataset...\n",
      "--------------------\n",
      "Processing OpenSSH dataset...\n",
      "--------------------\n",
      "Processing Proxifier dataset...\n",
      "--------------------\n",
      "Processing HPC dataset...\n",
      "--------------------\n",
      "Processing Zookeeper dataset...\n",
      "--------------------\n",
      "******* GOODBYE <*>:<*> ********\n",
      "******* GOODBYE <*> ********\n",
      "Accepted socket connection from <*>:<*>\n",
      "Accepted socket connection from <*>\n",
      "Cannot open channel to <*> at election address <*>:<*>\n",
      "Cannot open channel to <*> at election address <*>\n",
      "Client attempting to establish new session at <*>:<*>\n",
      "Client attempting to establish new session at <*>\n",
      "Client attempting to renew session <*> at <*>:<*>\n",
      "Client attempting to renew session <*> at <*>\n",
      "Closed socket connection for client <*>:<*> (no session established for client)\n",
      "Closed socket connection for client <*> (no session established for client)\n",
      "Closed socket connection for client <*>:<*> which had sessionid <*>\n",
      "Closed socket connection for client <*> which had sessionid <*>\n",
      "Connection request from old client <*>:<*>; will be dropped if server is in r-o mode\n",
      "Connection request from old client <*>; will be dropped if server is in r-o mode\n",
      "Established session <*> with negotiated timeout <*> for client <*>:<*>\n",
      "Established session <*> with negotiated timeout <*> for client <*>\n",
      "My election bind port: <*>/<*>:<*>\n",
      "My election bind port: <*>/<*>\n",
      "Received connection request <*>:<*>\n",
      "Received connection request <*>\n",
      "Processing Mac dataset...\n",
      "--------------------\n",
      "Arranged view frame: {{<*>, <*>}\n",
      "{<*>, <*>}}\n",
      "Arranged view frame: {{<*>, <*>} {<*>, <*>}}\n",
      "Page bounds {{<*>, <*>}\n",
      "{<*>, <*>}}\n",
      "Page bounds {{<*>, <*>} {<*>, <*>}}\n",
      "Processing Hadoop dataset...\n",
      "--------------------\n",
      "maxContainerCapability: <memory:<*>, vCores:<*>>\n",
      "maxContainerCapability: <memory:<*>, vCores:<*>\n",
      "Processing Android dataset...\n",
      "--------------------\n",
      "Processing Windows dataset...\n",
      "--------------------\n",
      "<*>@<*>/<*>/<*>:<*>:<*>:<*> CSI Transaction @<*> destroyed\n",
      "<*>@<*>/<*>/<*> CSI Transaction @<*> destroyed\n",
      "<*>@<*>/<*>/<*>:<*>:<*>:<*> CSI Transaction @<*> initialized for deployment engine {<*>} with flags <*> and client id [<*>]\"<*>/\"\n",
      "<*>@<*>/<*>/<*> CSI Transaction @<*> initialized for deployment engine {<*>} with flags <*> and client id [<*>]\"<*>/\"\n",
      "<*>@<*>/<*>/<*>:<*>:<*>:<*> PopulateComponentFamiliesKey - Begin\n",
      "<*>@<*>/<*>/<*> PopulateComponentFamiliesKey - Begin\n",
      "<*>@<*>/<*>/<*>:<*>:<*>:<*> PopulateComponentFamiliesKey - End\n",
      "<*>@<*>/<*>/<*> PopulateComponentFamiliesKey - End\n",
      "<*>@<*>/<*>/<*>:<*>:<*>:<*> WcpInitialize (wcp.dll version <*>) called (stack @<*>)\n",
      "<*>@<*>/<*>/<*> WcpInitialize (wcp.dll version <*>) called (stack @<*>)\n",
      "Processing Apache dataset...\n",
      "--------------------\n",
      "Processing Thunderbird dataset...\n",
      "--------------------\n",
      "Processing Spark dataset...\n",
      "--------------------\n"
     ]
    }
   ],
   "source": [
    "datasets = ['BGL', 'HDFS', 'Linux', 'HealthApp', 'OpenStack', 'OpenSSH', 'Proxifier', 'HPC',\n",
    "            'Zookeeper', 'Mac', 'Hadoop', 'Android', 'Windows', 'Apache', 'Thunderbird', 'Spark']\n",
    "# datasets = ['Linux']\n",
    "import pandas as pd\n",
    "from utils.postprocess import  correct_single_template\n",
    "for dataset in datasets:\n",
    "    df = pd.read_csv(f'dataset/{dataset}/{dataset}_2k.log_templates_corrected.csv')\n",
    "    print(f\"Processing {dataset} dataset...\")\n",
    "    print('-'*20)\n",
    "    templates = df['EventTemplate'].tolist()\n",
    "    for template in templates:\n",
    "        tmp = correct_single_template(template)\n",
    "        if tmp != template:\n",
    "            print(f\"{template}\\n{tmp}\")\n",
    "                "
   ]
  }
 ],
 "metadata": {
  "kernelspec": {
   "display_name": "langchain38",
   "language": "python",
   "name": "python3"
  },
  "language_info": {
   "codemirror_mode": {
    "name": "ipython",
    "version": 3
   },
   "file_extension": ".py",
   "mimetype": "text/x-python",
   "name": "python",
   "nbconvert_exporter": "python",
   "pygments_lexer": "ipython3",
   "version": "3.8.18"
  }
 },
 "nbformat": 4,
 "nbformat_minor": 2
}
