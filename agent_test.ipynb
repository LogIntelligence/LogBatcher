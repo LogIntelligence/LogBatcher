{
 "cells": [
  {
   "cell_type": "code",
   "execution_count": 7,
   "metadata": {},
   "outputs": [
    {
     "name": "stdout",
     "output_type": "stream",
     "text": [
      "```\n",
      "{{ip}} \"GET {{url}} HTTP/1.1\" status: {{status}} len: {{length}} time: {{response_time}}\n",
      "```\n",
      "[{'role': 'system', 'content': 'You will be provided with a log message and its possible template. You should check if the log message fits the template. Remember, only varaibles will be replaced with `<*>`.\\nPrint the refined template delimited by backticks.'}, {'role': 'user', 'content': 'log: 10.11.10.1 \"GET /v2/54fadb412c4e40cdbaed9335e4c35a9e/servers/detail HTTP/1.1\" status: 200 len: 1893 time: 0.2563808\\npossible template: <*> \"GET <*> HTTP/1.<*>\" status: <*> len: <*> time: <*>'}]\n",
      "`10.11.10.1 \"GET /v2/54fadb412c4e40cdbaed9335e4c35a9e/servers/detail HTTP/1.1\" status: 200 len: 1893 time: 0.2563808`\n"
     ]
    }
   ],
   "source": [
    "import json\n",
    "from utils.parser import Cluster_Parser\n",
    "from utils.postprocess import post_process\n",
    "with open('config.json', 'r') as f:\n",
    "    config = json.load(f)\n",
    "parser = Cluster_Parser(config)\n",
    "\n",
    "log = '10.11.10.1 \"GET /v2/54fadb412c4e40cdbaed9335e4c35a9e/servers/detail HTTP/1.1\" status: 200 len: 1893 time: 0.2563808'\n",
    "\n",
    "instruction1 = '''You will be provided with a log message delimited by backticks. You must abstract variables with `{{placeholders}}` to extract the corresponding template.\\nPrint the input log's template delimited by backticks.'''\n",
    "\n",
    "instruction2 = '''You will be provided with a log message and its possible template. You should check if the log message fits the template. Remember, only varaibles will be replaced with `<*>`.\\nPrint the refined template delimited by backticks.'''\n",
    "\n",
    "# parser\n",
    "messages_parser = [\n",
    "    {\"role\": \"system\", \"content\": instruction1},\n",
    "    {\"role\":\"user\", \"content\": log}\n",
    "]\n",
    "\n",
    "output1 = parser.chat(messages_parser)\n",
    "print(output1)\n",
    "# correcter\n",
    "messages_correcter = [\n",
    "    {\"role\": \"system\", \"content\": instruction2},\n",
    "    {\"role\": \"user\", \"content\": f\"log: {log}\\npossible template: {post_process(output1)}\"}\n",
    "]\n",
    "\n",
    "print(messages_correcter)\n",
    "\n",
    "output2 = parser.chat(messages_correcter)\n",
    "print(output2)"
   ]
  }
 ],
 "metadata": {
  "kernelspec": {
   "display_name": "langchain",
   "language": "python",
   "name": "python3"
  },
  "language_info": {
   "codemirror_mode": {
    "name": "ipython",
    "version": 3
   },
   "file_extension": ".py",
   "mimetype": "text/x-python",
   "name": "python",
   "nbconvert_exporter": "python",
   "pygments_lexer": "ipython3",
   "version": "3.8.17"
  }
 },
 "nbformat": 4,
 "nbformat_minor": 2
}
