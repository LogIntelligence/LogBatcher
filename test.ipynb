{
 "cells": [
  {
   "cell_type": "code",
   "execution_count": 10,
   "metadata": {},
   "outputs": [
    {
     "name": "stderr",
     "output_type": "stream",
     "text": [
      "100%|██████████| 74273/74273 [00:00<00:00, 3533655.57it/s]"
     ]
    },
    {
     "name": "stdout",
     "output_type": "stream",
     "text": [
      "0.9626647637768772\n",
      "71500\n"
     ]
    },
    {
     "name": "stderr",
     "output_type": "stream",
     "text": [
      "\n"
     ]
    }
   ],
   "source": [
    "import pandas as pd\n",
    "from tqdm import tqdm\n",
    "from utils.evaluator import evaluate\n",
    "dataset = 'Zookeeper'\n",
    "output_file = f'outputs/parser/LogBatcher_0shot_32candidate_10batchsize_2000chunksize_full/{dataset}_2k.log_structured.csv'\n",
    "groundtruth_file = f'dataset/{dataset}/{dataset}_full.log_structured.csv'\n",
    "# a =evaluate(output_file=output_file, groundtruth_file=groundtruth_file,dataset=dataset)\n",
    "# print(a)\n",
    "df1 = pd.read_csv(output_file)\n",
    "logs1 = df1['EventTemplate'].tolist()\n",
    "df2 = pd.read_csv(groundtruth_file)\n",
    "logs2 = df2['EventTemplate'].tolist()\n",
    "\n",
    "count = 0\n",
    "length = len(logs1)\n",
    "for i in tqdm(range(length)):\n",
    "    if logs1[i] == logs2[i]:\n",
    "        count += 1\n",
    "print(count / length)\n",
    "print(count)\n"
   ]
  },
  {
   "cell_type": "code",
   "execution_count": null,
   "metadata": {},
   "outputs": [],
   "source": [
    "from utils.postprocess import correct_single_template\n",
    "\n",
    "print(correct_single_template('<*> \"<*> <*> 1.2.3.4:<*> status: <*> len: <*> time: <*>'))"
   ]
  },
  {
   "cell_type": "code",
   "execution_count": 3,
   "metadata": {},
   "outputs": [],
   "source": [
    "import re\n",
    "import pandas as pd\n",
    "dataset = 'HDFS'\n",
    "groundtruth_file = f'dataset/{dataset}/{dataset}_full.log_structured.csv'\n",
    "df = pd.read_csv(groundtruth_file)\n",
    "# 定义更新规则的函数\n",
    "def update_content(content):\n",
    "    # 使用正则表达式匹配并更新内容\n",
    "    pattern = r'(BLOCK\\* NameSystem\\.allocateBlock: [^ ]*) ([^ ]*)'\n",
    "    replacement = r'\\1. \\2'\n",
    "    return re.sub(pattern, replacement, content)\n",
    "\n",
    "# 更新Content列\n",
    "df['Content'] = df['Content'].apply(update_content)\n",
    "\n",
    "# 保存修改后的CSV文件\n",
    "df.to_csv('updated_file.csv', index=False)"
   ]
  }
 ],
 "metadata": {
  "kernelspec": {
   "display_name": "base",
   "language": "python",
   "name": "python3"
  },
  "language_info": {
   "codemirror_mode": {
    "name": "ipython",
    "version": 3
   },
   "file_extension": ".py",
   "mimetype": "text/x-python",
   "name": "python",
   "nbconvert_exporter": "python",
   "pygments_lexer": "ipython3",
   "version": "3.11.5"
  }
 },
 "nbformat": 4,
 "nbformat_minor": 2
}
