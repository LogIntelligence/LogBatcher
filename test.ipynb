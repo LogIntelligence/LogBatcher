{
 "cells": [
  {
   "cell_type": "markdown",
   "metadata": {},
   "source": [
    "## Invokation Test"
   ]
  },
  {
   "cell_type": "code",
   "execution_count": 3,
   "metadata": {},
   "outputs": [
    {
     "name": "stdout",
     "output_type": "stream",
     "text": [
      "model: gpt-3.5-turbo-0125\n",
      "usage: CompletionUsage(completion_tokens=17, prompt_tokens=314, total_tokens=331)\n",
      "`Session: {{variable}}_{{variable}} initialized by client {{variable}}.`\n"
     ]
    }
   ],
   "source": [
    "from openai import OpenAI\n",
    "import httpx\n",
    "import openai\n",
    "import backoff\n",
    "from utils.postprocess import post_process\n",
    "\n",
    "api_key = \"sk-proj-5EkdZfTfjJ1GJim17pgQT3BlbkFJHCMqWAOX7dTSGOcFOjrn\"\n",
    "client = OpenAI(\n",
    "    api_key=api_key,                      # api_key\n",
    "    http_client=httpx.Client(\n",
    "        proxies=\"http://127.0.0.1:7890\"  # proxies\n",
    "    ),\n",
    ")\n",
    "\n",
    "@backoff.on_exception(backoff.expo, (openai.APIStatusError, openai.InternalServerError), max_tries=20)\n",
    "def get_responce(messages):\n",
    "    response = client.chat.completions.create(\n",
    "        model=\"gpt-3.5-turbo-0125\",\n",
    "        messages=messages,\n",
    "        temperature=0.0,\n",
    "    )\n",
    "    print(f\"model: {response.model}\")\n",
    "    print(f\"usage: {response.usage}\")\n",
    "    return response.choices[0].message.content.strip('\\n')\n",
    "\n",
    "instruction_for_batch_logs = '''You will be provided with some log messages. You should check if the giving log messages share the same template. If so, abstract variables with `{{placeholders}}` to extract the corresponding template.\\nPrint the input log's template delimited by backticks.'''\n",
    "\n",
    "instruction_for_one_log = \"You will be provided with some log messages delimited by backticks. You must abstract variables with `{{placeholders}}` to extract the corresponding template. There is a high possiblity that no variables in the log message\\nPrint the input log's template delimited by backticks.\"\n",
    "\n",
    "instruction_for_all = \"You will be provided with some log messages separated by line break. You must abstract variables with `{{placeholders}}` to extract the corresponding template. There might be no variables in the log message\\nPrint the input log's template delimited by backticks.\"\n",
    "\n",
    "logs = '''data storage interrupt'''\n",
    "log_list = logs.split('\\n')\n",
    "\n",
    "messages = [\n",
    "    {'role': 'system', 'content': instruction_for_all},\n",
    "    {'role': 'user', 'content': 'Log message: `data storage interrupt`'}\n",
    "]\n",
    "\n",
    "logs = ['instruction cache parity error corrected',\n",
    "    '63543 double-hummer alignment exceptions', '141 double-hummer alignment exceptions']\n",
    "\n",
    "output = get_responce([\n",
    "    {\n",
    "        \"role\": \"system\",\n",
    "        \"content\": \"You will be provided with some log messages separated by line break. You must abstract variables with `{{placeholders}}` to extract the corresponding template. There might be no variables in the log message.\\nPrint the input log's template delimited by backticks.\"\n",
    "    },\n",
    "    {\n",
    "        \"role\": \"user\",\n",
    "        \"content\": \"Log message: `00000008 CSI Store 4991456 (0x00000000004c29e0) initialized`\\nLog template: `{{variable}} CSI Store {{variable}} ({{variable}}) initialized`\\nLog message: `00000009@2016/9/27:20:40:53.744 CSI Transaction @0x47e9e0 initialized for deployment engine {d16d444c-56d8-11d5-882d-0080c847b195} with flags 00000002 and client id [10]\\\"TI6.0_0:0/\\\"`\\nLog template: `{{variable}}@{{variable}}/{{variable}}/{{variable}}:{{variable}}:{{variable}}:{{variable}} CSI Transaction @{{variable}} initialized for deployment engine {{{variable}}} with flags {{variable}} and client id [{{variable}}]\\\"{{variable}}/\\\"`\\nLog message: `Session: 30546173_4271022933 initialized by client WindowsUpdateAgent.`\\nLog template: `Session: {{variable}} initialized by client WindowsUpdateAgent.`\\nLog message: `Session: 11152_142416105 initialized by client SPP.`\\n Log template: \"\n",
    "    }\n",
    "])\n",
    "# template = post_process(output, log_list[0])\n",
    "print(output)\n",
    "# print(template)"
   ]
  },
  {
   "cell_type": "code",
   "execution_count": null,
   "metadata": {},
   "outputs": [],
   "source": [
    "%pip install together"
   ]
  },
  {
   "cell_type": "code",
   "execution_count": null,
   "metadata": {},
   "outputs": [],
   "source": [
    "import os\n",
    "from together import Together\n",
    "import httpx\n",
    "api_key = \"3e0eca67e7a8720908ba848545b9175f556a6ab6dfc0b63ee3639f9d71e1bbeb\"\n",
    "client = Together(\n",
    "    api_key=api_key,                      # api_key\n",
    "#     http_client=httpx.Client(\n",
    "#         proxies=\"http://127.0.0.1:7890\"  # proxies\n",
    "#     ),\n",
    ")\n",
    "response = client.chat.completions.create(\n",
    "    model=\"Qwen/Qwen1.5-7B-Chat\",\n",
    "    messages=[\n",
    "        {\n",
    "            \"role\": \"system\",\n",
    "            \"content\": \"You will be provided with some log messages separated by line break. You must abstract variables with `{{placeholders}}` to extract the corresponding template. There might be no variables in the log message.\\nPrint the input log's template delimited by backticks.\"\n",
    "        },\n",
    "        {\n",
    "            \"role\": \"user\",\n",
    "            \"content\": \"Warning: we failed to resolve data source name an654 an655 an656 an657 an658 an659 an660 an661 an662 an663 an664 an665 an666 an667 an668 an669 an670 an671 an672 an673 an674 an675 an676 an677 an678 an679 an680 an681 an682 an683 an684 an685 an686 an687 an688 an689 an690 an691 an692 an693 an694 an695 an696 an697 an698 an699 an700 an701 an702 an703 an704 an705 an706 an707 an708 an709 an710 an711 an712 an713 an714 an715 an716 an717 an718 an719 an720 an721 an722 an723 an724 an725 an726 an727 an728 an729 an730 an731 an732 an733 an734 an735 an736 an737 an738 an739 an740 an741 an742 an743 an744 an745 an746 an747 an748 an749 an750 an751 an752 an753 an754 an755 an756 an757 an758 an759 an760 an761 an762 an763 an764 an765 an766 an767 an768\\nWarning: we failed to resolve data source name an782 an783 an784 an785 an786 an787 an788 an789 an790 an791 an792 an793 an794 an795 an796 an797 an798 an799 an800 an801 an802 an803 an804 an805 an806 an807 an808 an809 an810 an811 an812 an813 an814 an815 an816 an817 an818 an819 an820 an821 an822 an823 an824 an825 an826 an827 an828 an829 an830 an831 an832 an833 an834 an835 an836 an837 an838 an839 an840 an841 an842 an843 an844 an845 an846 an847 an848 an849 an850 an851 an852 an853 an854 an855 an856 an857 an858 an859 an860 an861 an862 an863 an864 an865 an866 an867 an868 an869 an870 an871 an872 an873 an874 an875 an876 an877 an878 an879 an880 an881 an882 an883 an884 an885 an886 an887 an888 an889 an890 an891 an892 an893 an894 an895 an896\\nWarning: we failed to resolve data source name an910 an911 an912 an913 an914 an915 an916 an917 an918 an919 an920 an921 an922 an923 an924 an925 an926 an927 an928 an929 an930 an931 an932 an933 an934 an935 an936 an937 an938 an939 an940 an941 an942 an943 an944 an945 an946 an947 an948 an949 an950 an951 an952 an953 an954 an955 an956 an957 an958 an959 an960 an961 an962 an963 an964 an965 an966 an967 an968 an969 an970 an971 an972 an973 an974 an975 an976 an977 an978 an979 an980 an981 an982 an983 an984 an985 an986 an987 an988 an989 an990 an991 an992 an993 an994 an995 an996 an997 an998 an999 an1000 an1001 an1002 an1003 an1004 an1005 an1006 an1007 an1008 an1009 an1010 an1011 an1012 an1013 an1014 an1015 an1016 an1017 an1018 an1019 an1020 an1021 an1022 an1023 an1024\\nWarning: we failed to resolve data source name bn782 bn783 bn784 bn785 bn786 bn787 bn788 bn789 bn790 bn791 bn792 bn793 bn794 bn795 bn796 bn797 bn798 bn799 bn800 bn801 bn802 bn803 bn804 bn805 bn806 bn807 bn808 bn809 bn810 bn811 bn812 bn813 bn814 bn815 bn816 bn817 bn818 bn819 bn820 bn821 bn822 bn823 bn824 bn825 bn826 bn827 bn828 bn829 bn830 bn831 bn832 bn833 bn834 bn835 bn836 bn837 bn838 bn839 bn840 bn841 bn842 bn843 bn844 bn845 bn846 bn847 bn848 bn849 bn850 bn851 bn852 bn853 bn854 bn855 bn856 bn857 bn858 bn859 bn860 bn861 bn862 bn863 bn864 bn865 bn866 bn867 bn868 bn869 bn870 bn871 bn872 bn873 bn874 bn875 bn876 bn877 bn878 bn879 bn880 bn881 bn882 bn883 bn884 bn885 bn886 bn887 bn888 bn889 bn890 bn891 bn892 bn893 bn894 bn895 bn896\\nWarning: we failed to resolve data source name bn910 bn911 bn912 bn913 bn914 bn915 bn916 bn917 bn918 bn919 bn920 bn921 bn922 bn923 bn924 bn925 bn926 bn927 bn928 bn929 bn930 bn931 bn932 bn933 bn934 bn935 bn936 bn937 bn938 bn939 bn940 bn941 bn942 bn943 bn944 bn945 bn946 bn947 bn948 bn949 bn950 bn951 bn952 bn953 bn954 bn955 bn956 bn957 bn958 bn959 bn960 bn961 bn962 bn963 bn964 bn965 bn966 bn967 bn968 bn969 bn970 bn971 bn972 bn973 bn974 bn975 bn976 bn977 bn978 bn979 bn980 bn981 bn982 bn983 bn984 bn985 bn986 bn987 bn988 bn989 bn990 bn991 bn992 bn993 bn994 bn995 bn996 bn997 bn998 bn999 bn1000 bn1001 bn1002 bn1003 bn1004 bn1005 bn1006 bn1007 bn1008 bn1009 bn1010 bn1011 bn1012 bn1013 bn1014 bn1015 bn1016 bn1017 bn1018 bn1019 bn1020 bn1021 bn1022 bn1023 bn1024\\nWarning: we failed to resolve data source name cn654 cn655 cn656 cn657 cn658 cn659 cn660 cn661 cn662 cn663 cn664 cn665 cn666 cn667 cn668 cn669 cn670 cn671 cn672 cn673 cn674 cn675 cn676 cn677 cn678 cn679 cn680 cn681 cn682 cn683 cn684 cn685 cn686 cn687 cn688 cn689 cn690 cn691 cn692 cn693 cn694 cn695 cn696 cn697 cn698 cn699 cn700 cn701 cn702 cn703 cn704 cn705 cn706 cn707 cn708 cn709 cn710 cn711 cn712 cn713 cn714 cn715 cn716 cn717 cn718 cn719 cn720 cn721 cn722 cn723 cn724 cn725 cn726 cn727 cn728 cn729 cn730 cn731 cn732 cn733 cn734 cn735 cn736 cn737 cn738 cn739 cn740 cn741 cn742 cn743 cn744 cn745 cn746 cn747 cn748 cn749 cn750 cn751 cn752 cn753 cn754 cn755 cn756 cn757 cn758 cn759 cn760 cn761 cn762 cn763 cn764 cn765 cn766 cn767 cn768\\nWarning: we failed to resolve data source name cn782 cn783 cn784 cn785 cn786 cn787 cn788 cn789 cn790 cn791 cn792 cn793 cn794 cn795 cn796 cn797 cn798 cn799 cn800 cn801 cn802 cn803 cn804 cn805 cn806 cn807 cn808 cn809 cn810 cn811 cn812 cn813 cn814 cn815 cn816 cn817 cn818 cn819 cn820 cn821 cn822 cn823 cn824 cn825 cn826 cn827 cn828 cn829 cn830 cn831 cn832 cn833 cn834 cn835 cn836 cn837 cn838 cn839 cn840 cn841 cn842 cn843 cn844 cn845 cn846 cn847 cn848 cn849 cn850 cn851 cn852 cn853 cn854 cn855 cn856 cn857 cn858 cn859 cn860 cn861 cn862 cn863 cn864 cn865 cn866 cn867 cn868 cn869 cn870 cn871 cn872 cn873 cn874 cn875 cn876 cn877 cn878 cn879 cn880 cn881 cn882 cn883 cn884 cn885 cn886 cn887 cn888 cn889 cn890 cn891 cn892 cn893 cn894 cn895 cn896\\nWarning: we failed to resolve data source name cn910 cn911 cn912 cn913 cn914 cn915 cn916 cn917 cn918 cn919 cn920 cn921 cn922 cn923 cn924 cn925 cn926 cn927 cn928 cn929 cn930 cn931 cn932 cn933 cn934 cn935 cn936 cn937 cn938 cn939 cn940 cn941 cn942 cn943 cn944 cn945 cn946 cn947 cn948 cn949 cn950 cn951 cn952 cn953 cn954 cn955 cn956 cn957 cn958 cn959 cn960 cn961 cn962 cn963 cn964 cn965 cn966 cn967 cn968 cn969 cn970 cn971 cn972 cn973 cn974 cn975 cn976 cn977 cn978 cn979 cn980 cn981 cn982 cn983 cn984 cn985 cn986 cn987 cn988 cn989 cn990 cn991 cn992 cn993 cn994 cn995 cn996 cn997 cn998 cn999 cn1000 cn1001 cn1002 cn1003 cn1004 cn1005 cn1006 cn1007 cn1008 cn1009 cn1010 cn1011 cn1012 cn1013 cn1014 cn1015 cn1016 cn1017 cn1018 cn1019 cn1020 cn1021 cn1022 cn1023 cn1024\\nWarning: we failed to resolve data source name dn654 dn655 dn656 dn657 dn658 dn659 dn660 dn661 dn662 dn663 dn664 dn665 dn666 dn667 dn668 dn669 dn670 dn671 dn672 dn673 dn674 dn675 dn676 dn677 dn678 dn679 dn680 dn681 dn682 dn683 dn684 dn685 dn686 dn687 dn688 dn689 dn690 dn691 dn692 dn693 dn694 dn695 dn696 dn697 dn698 dn699 dn700 dn701 dn702 dn703 dn704 dn705 dn706 dn707 dn708 dn709 dn710 dn711 dn712 dn713 dn714 dn715 dn716 dn717 dn718 dn719 dn720 dn721 dn722 dn723 dn724 dn725 dn726 dn727 dn728 dn729 dn730 dn731 dn732 dn733 dn734 dn735 dn736 dn737 dn738 dn739 dn740 dn741 dn742 dn743 dn744 dn745 dn746 dn747 dn748 dn749 dn750 dn751 dn752 dn753 dn754 dn755 dn756 dn757 dn758 dn759 dn760 dn761 dn762 dn763 dn764 dn765 dn766 dn767 dn768\\nWarning: we failed to resolve data source name dn782 dn783 dn784 dn785 dn786 dn787 dn788 dn789 dn790 dn791 dn792 dn793 dn794 dn795 dn796 dn797 dn798 dn799 dn800 dn801 dn802 dn803 dn804 dn805 dn806 dn807 dn808 dn809 dn810 dn811 dn812 dn813 dn814 dn815 dn816 dn817 dn818 dn819 dn820 dn821 dn822 dn823 dn824 dn825 dn826 dn827 dn828 dn829 dn830 dn831 dn832 dn833 dn834 dn835 dn836 dn837 dn838 dn839 dn840 dn841 dn842 dn843 dn844 dn845 dn846 dn847 dn848 dn849 dn850 dn851 dn852 dn853 dn854 dn855 dn856 dn857 dn858 dn859 dn860 dn861 dn862 dn863 dn864 dn865 dn866 dn867 dn868 dn869 dn870 dn871 dn872 dn873 dn874 dn875 dn876 dn877 dn878 dn879 dn880 dn881 dn882 dn883 dn884 dn885 dn886 dn887 dn888 dn889 dn890 dn891 dn892 dn893 dn894 dn895 dn896\"\n",
    "        }\n",
    "    ],\n",
    "    # temperature=0.0,\n",
    ")\n",
    "print(response.choices[0].message.content)"
   ]
  },
  {
   "cell_type": "code",
   "execution_count": null,
   "metadata": {},
   "outputs": [],
   "source": [
    "from Levenshtein import distance\n",
    "\n",
    "\n",
    "def closest_template(target, templates):\n",
    "    min_distance = float('inf')\n",
    "    closest_template = None\n",
    "    for template in templates:\n",
    "        d = distance(target, template.replace('<*>', ''))\n",
    "        print(d)\n",
    "        if d < min_distance:\n",
    "            min_distance = d\n",
    "            closest_template = template\n",
    "    return closest_template\n",
    "\n",
    "templates = [\n",
    "    '<*> close, <*> bytes sent, <*> bytes received, lifetime <1',\n",
    "    '<*> close, <*> bytes (<*> KB) sent, <*> bytes (<*> KB) received, lifetime <1',\n",
    "    '<*> close, <*> bytes sent, <*> bytes (<*> KB) received, lifetime <*>',\n",
    "    '<*> close, <*> bytes (<*> KB) sent, <*> bytes (<*> MB) received, lifetime <*>',\n",
    "    '<*> close, <*> sent, <*> received, lifetime <*>',\n",
    "]\n",
    "\n",
    "print(closest_template('proxy.cse.cuhk.edu.hk:5070 close, 0 bytes sent, 0 bytes received, lifetime 00:01', templates))"
   ]
  },
  {
   "cell_type": "code",
   "execution_count": null,
   "metadata": {},
   "outputs": [],
   "source": [
    "import numpy as np\n",
    "from sklearn.metrics.pairwise import cosine_similarity\n",
    "\n",
    "def find_most_similar(target, lst, n=3):\n",
    "    vectors = [np.array([ord(c) for c in s]).reshape(1, -1) for s in lst]\n",
    "    target_vector = np.array([ord(c) for c in target]).reshape(1, -1)\n",
    "    similarities = cosine_similarity(vectors, target_vector)\n",
    "    most_similar_indices = np.argsort(similarities, axis=0)[-n:].flatten()[::-1]\n",
    "    return [lst[i] for i in most_similar_indices]"
   ]
  },
  {
   "cell_type": "markdown",
   "metadata": {},
   "source": [
    "## Test oracle template"
   ]
  },
  {
   "cell_type": "code",
   "execution_count": null,
   "metadata": {},
   "outputs": [],
   "source": [
    "from utils.postprocess import correct_single_template\n",
    "import pandas as pd\n",
    "table_order = 'HDFS Hadoop Spark Zookeeper BGL HPC Thunderbird Linux HealthApp Apache Proxifier OpenSSH OpenStack Mac'\n",
    "datasets = table_order.split(' ')\n",
    "# define a set\n",
    "list = []\n",
    "for dataset in datasets:\n",
    "    print('+' * 20 + dataset)\n",
    "    df = pd.read_csv(\n",
    "        f'dataset\\{dataset}\\{dataset}_2k.log_templates_corrected.csv')\n",
    "    templates = df['EventTemplate'].tolist()\n",
    "    for template in templates:\n",
    "        if correct_single_template(template) != template:\n",
    "            print(correct_single_template(template))\n",
    "            print(template)\n",
    "            print('-' * 20)"
   ]
  },
  {
   "cell_type": "code",
   "execution_count": 1,
   "metadata": {},
   "outputs": [
    {
     "name": "stdout",
     "output_type": "stream",
     "text": [
      "['asdasdasdasdasdasdasdasdasdasd']\n"
     ]
    }
   ],
   "source": [
    "print(['asd' * 10])"
   ]
  },
  {
   "cell_type": "markdown",
   "metadata": {},
   "source": [
    "try to conclude the types of variables"
   ]
  },
  {
   "cell_type": "code",
   "execution_count": null,
   "metadata": {},
   "outputs": [],
   "source": [
    "import pandas as pd \n",
    "import re\n",
    "from utils.sample_byword import extract_variables\n",
    "\n",
    "# extract before check\n",
    "def check_variable(variable):\n",
    "    variable = variable.strip()\n",
    "    if variable.startswith('/'):\n",
    "        return 'path'\n",
    "    if variable.startswith('0x'):\n",
    "        return 'address'\n",
    "    if re.match(r'\\b-?\\d+(\\.\\d+)?\\b|\\b0x[0-9a-fA-F]+\\b', variable):\n",
    "        return 'number'\n",
    "    if re.match( r'^[a-zA-Z]+$', variable):\n",
    "        return 'word'\n",
    "    if re.match(  r'\\b(?:\\d{1,3}\\.){3}\\d{1,3}(?::\\d{1,5})?\\b', variable):\n",
    "        return 'ip'\n",
    "    else:\n",
    "        return 'null'\n"
   ]
  },
  {
   "cell_type": "markdown",
   "metadata": {},
   "source": [
    "Test the unseen accurray"
   ]
  },
  {
   "cell_type": "code",
   "execution_count": null,
   "metadata": {},
   "outputs": [],
   "source": [
    "from collections import Counter\n",
    "import os\n",
    "import pandas as pd\n",
    "from sklearn.metrics import accuracy_score\n",
    "from scipy.spatial.distance import cosine\n",
    "import numpy as np\n",
    "\n",
    "\n",
    "\n",
    "\n",
    "table_order = 'HDFS Hadoop Spark Zookeeper BGL HPC Thunderbird Windows Linux Android HealthApp Apache OpenSSH OpenStack Mac'\n",
    "datasets = table_order.split(' ')\n",
    "a = 0\n",
    "b = 0\n",
    "for dataset in datasets:\n",
    "    \n",
    "    file = 'Test_10shot'\n",
    "    groundtruth_file = f'dataset/{dataset}/{dataset}_2k.log_structured_corrected.csv'\n",
    "    output_file = f'outputs/parser/{file}/{dataset}_2k.log_structured.csv'\n",
    "    \n",
    "    templates_groundtruth = pd.read_csv(groundtruth_file)['EventTemplate'].tolist()\n",
    "    templates_output = pd.read_csv(output_file)['EventTemplate'].tolist()\n",
    "    \n",
    "    freq = Counter(templates_groundtruth)\n",
    "    unseen_templates = [item for item, count in freq.items() if count == 1]\n",
    "    \n",
    "    indexes = []\n",
    "    for index, template in enumerate(templates_groundtruth):\n",
    "        if template in unseen_templates:\n",
    "            indexes.append(index)\n",
    "    \n",
    "    accuracy_exact_string_matching = accuracy_score([templates_groundtruth[index] for index in indexes], [templates_output[index] for index in indexes], normalize=False)\n",
    "    length = len(indexes)\n",
    "    a += length\n",
    "    b += accuracy_exact_string_matching\n",
    "    dataset = ' ' * (12 - len(dataset)) + dataset\n",
    "    print('%s: len of unseen log: %.4d, Message-Level Accuracy: %.4f' %(dataset, length ,accuracy_exact_string_matching/length))\n",
    "    \n",
    "\n",
    "print(b/a)\n",
    "print(a/len(datasets))\n",
    "# 81.0 71.2"
   ]
  },
  {
   "cell_type": "code",
   "execution_count": 24,
   "metadata": {},
   "outputs": [
    {
     "name": "stdout",
     "output_type": "stream",
     "text": [
      "Grouping ...\n",
      "[[0, 1, 2, 3, 4, 5, 6, 7, 8, 9, 10, 11, 12, 13, 14, 15, 16, 17, 18]]\n"
     ]
    },
    {
     "name": "stderr",
     "output_type": "stream",
     "text": [
      "d:\\Develop\\anaconda\\envs\\langchain38\\lib\\site-packages\\sklearn\\cluster\\_kmeans.py:1436: UserWarning: KMeans is known to have a memory leak on Windows with MKL, when there are less chunks than available threads. You can avoid it by setting the environment variable OMP_NUM_THREADS=1.\n",
      "  warnings.warn(\n"
     ]
    }
   ],
   "source": [
    "import random\n",
    "from sklearn.cluster import KMeans\n",
    "from sklearn.discriminant_analysis import StandardScaler\n",
    "import numpy as np\n",
    "from sklearn.feature_extraction.text import TfidfVectorizer\n",
    "\n",
    "\n",
    "def group_samples_clustering(logs, num_in_batch):\n",
    "    def _calculate_cos_similarities(v1: np.array, v2: np.array):\n",
    "        num = np.dot(v1, v2.T)\n",
    "        denom = np.linalg.norm(v1, axis=1).reshape(-1, 1) * \\\n",
    "            np.linalg.norm(v2, axis=1)\n",
    "        similarity_matrix = num / denom\n",
    "        similarity_matrix[np.isneginf(similarity_matrix)] = 0\n",
    "        similarity_matrix = 0.5 + 0.5 * similarity_matrix\n",
    "        return similarity_matrix\n",
    "\n",
    "    vectorizer = TfidfVectorizer(stop_words='english')\n",
    "    tfidf_matrix = vectorizer.fit_transform(logs)\n",
    "    embed_matrix = tfidf_matrix.toarray()\n",
    "\n",
    "    if embed_matrix.shape[0] % num_in_batch:\n",
    "        n_clusters = embed_matrix.shape[0] // num_in_batch + 1\n",
    "    else:\n",
    "        n_clusters = embed_matrix.shape[0] // num_in_batch\n",
    "\n",
    "    # K-means clustering\n",
    "    kmeans = KMeans(n_clusters=n_clusters, random_state=0,\n",
    "                    n_init=\"auto\").fit(embed_matrix)\n",
    "    similarity_matrix = _calculate_cos_similarities(\n",
    "        embed_matrix, kmeans.cluster_centers_)  # [n_samples, n_clusters]\n",
    "    similarity_rankings = np.argsort(-similarity_matrix, axis=1)\n",
    "    groups = [[] for _ in range(n_clusters)]\n",
    "    for sample_idx, label in enumerate(kmeans.labels_):\n",
    "        groups[label].append(sample_idx)\n",
    "    # Reassign to equalize the number of samples in each cluster\n",
    "    for group_idx, group in enumerate(groups):\n",
    "        if len(group) > num_in_batch:\n",
    "            groups[group_idx] = sorted(\n",
    "                group, key=lambda x: similarity_matrix[x, group_idx], reverse=True)\n",
    "            samples_to_reassign = groups[group_idx][num_in_batch:]\n",
    "            groups[group_idx] = groups[group_idx][:num_in_batch]\n",
    "            for sample_idx in samples_to_reassign:\n",
    "                for candi_group_idx in similarity_rankings[sample_idx]:\n",
    "                    if len(groups[candi_group_idx]) < num_in_batch:\n",
    "                        groups[candi_group_idx].append(sample_idx)\n",
    "                        break\n",
    "    return groups\n",
    "\n",
    "\n",
    "# 创建日志模板\n",
    "logs = [\n",
    "    \"Error: Unable to access database\",\n",
    "    \"Error: File not found\",\n",
    "    \"Error: Network timeout\",\n",
    "    \"Error: Permission denied\",\n",
    "    \"Error: Service unavailable\",\n",
    "    \"Error: Out of memory\",\n",
    "    \"Warning: Disk space is low\",\n",
    "    \"Warning: High memory usage detected\",\n",
    "    \"Warning: CPU temperature is high\",\n",
    "    \"Warning: Unusual login activity detected\",\n",
    "    \"Warning: Low battery\",\n",
    "    \"Warning: Suspicious activity detected\",\n",
    "    \"Info: User logged in successfully\",\n",
    "    \"Info: System rebooted\",\n",
    "    \"Info: Backup completed successfully\",\n",
    "    \"Info: Scheduled maintenance started\",\n",
    "    \"Info: System update completed\",\n",
    "    \"Info: User account created\",\n",
    "    \"Info: Data synchronization successful\"\n",
    "]\n",
    "\n",
    "\n",
    "print(\"Grouping ...\")\n",
    "groups = group_samples_clustering(logs, 50)\n",
    "print(groups)"
   ]
  },
  {
   "cell_type": "code",
   "execution_count": 20,
   "metadata": {},
   "outputs": [
    {
     "name": "stdout",
     "output_type": "stream",
     "text": [
      "Error: Service unavailable\n",
      "Warning: Suspicious activity detected\n",
      "Info: Backup completed successfully\n",
      "---\n"
     ]
    }
   ],
   "source": [
    "for group in groups:\n",
    "    for idx in group:\n",
    "        print(logs[idx])\n",
    "    print('---')"
   ]
  },
  {
   "cell_type": "code",
   "execution_count": 33,
   "metadata": {},
   "outputs": [
    {
     "data": {
      "image/png": "[encoded data removed]",
      "text/plain": [
       "<Figure size 640x480 with 1 Axes>"
      ]
     },
     "metadata": {},
     "output_type": "display_data"
    }
   ],
   "source": []
  },
  {
   "cell_type": "code",
   "execution_count": null,
   "metadata": {},
   "outputs": [],
   "source": []
  }
 ],
 "metadata": {
  "kernelspec": {
   "display_name": "langchain38",
   "language": "python",
   "name": "python3"
  },
  "language_info": {
   "codemirror_mode": {
    "name": "ipython",
    "version": 3
   },
   "file_extension": ".py",
   "mimetype": "text/x-python",
   "name": "python",
   "nbconvert_exporter": "python",
   "pygments_lexer": "ipython3",
   "version": "3.11.5"
  }
 },
 "nbformat": 4,
 "nbformat_minor": 2
}
