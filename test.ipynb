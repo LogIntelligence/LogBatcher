{
 "cells": [
  {
   "cell_type": "markdown",
   "metadata": {},
   "source": [
    "api call"
   ]
  },
  {
   "cell_type": "code",
   "execution_count": 26,
   "metadata": {},
   "outputs": [
    {
     "name": "stdout",
     "output_type": "stream",
     "text": [
      "`Finished task {{task_id}} in stage {{stage_id}} (TID {{task_tid}}). {{bytes}} bytes result sent to driver`\n"
     ]
    }
   ],
   "source": [
    "from openai import OpenAI\n",
    "from tqdm import tqdm\n",
    "import httpx\n",
    "import pandas as pd\n",
    "import openai\n",
    "import backoff\n",
    "\n",
    "api_key = \"sk-5tlQk10jHxjUJ47iF387Ca4a18F04eDaAd5f2b6c90341e44\"\n",
    "client = OpenAI(\n",
    "    base_url=\"https://oneapi.xty.app/v1\",  # 中转url\n",
    "    api_key=api_key,                      # api_key\n",
    "    http_client=httpx.Client(\n",
    "        proxies=\"http://127.0.0.1:7890\"  # 代理地址\n",
    "    ),\n",
    ")\n",
    "\n",
    "@backoff.on_exception(backoff.expo, (openai.APIStatusError, openai.InternalServerError), max_tries=5)\n",
    "def get_responce(messages):\n",
    "    response = client.chat.completions.create(\n",
    "        model=\"gpt-3.5-turbo\",\n",
    "        messages=messages,\n",
    "    )\n",
    "    return response.choices[0].message.content.strip('\\n')\n",
    "\n",
    "\n",
    "instruction_noindex_old = '''You will be provided with some log messages. You should check whether the giving log messages share the same template. If so, abstract variables with `{placeholders}` and return the template without additional explatation'''\n",
    "\n",
    "instruction_noindex = '''You will be provided with some log messages. You should check if the giving log messages share the same template. If so, abstract variables with `{{placeholders}}` to extract the corresponding template.\n",
    "Print the input log's template delimited by backticks.\n",
    "'''\n",
    "\n",
    "instruction_100 = '''do the following log contents share the same template? Return the template or templates without additional explatation'''\n",
    "\n",
    "instruction_1_13 = '''You will be provided with some log messages. You should check whether the giving log messages share the same template. If so, abstract variables with ‘{{placeholders}}’ and return the template without additional explatation'''\n",
    "\n",
    "instruction_1_13_2 = '''Given some log templates, you should choice the most corret one. If you think none of them is correct, you can return the correct tempalte you think'''\n",
    "\n",
    "prompt = '''Block broadcast_9 stored as values in memory (estimated size 8.8 KB, free 14.0 KB)'''\n",
    "\n",
    "instruction_for_one_log = '''You will be provided with a log message delimited by backticks. You must abstract variables with `{placeholders}` to extract the corresponding template.\n",
    "Print the input log's template delimited by backticks.'''\n",
    "\n",
    "input = '''Log message: `Block broadcast_9 stored as values in memory (estimated size 8.8 KB, free 14.0 KB)`'''\n",
    "# ready=true,policy=3,wakefulness=1,wksummary=0x23,uasummary=0x1,bootcompleted=true,boostinprogress=false,waitmodeenable=false,mode=false,manual=38,auto=-1,adj=0.0userId=0\n",
    "prompt2 = '''Finished task 3.0 in stage 0.0 (TID 3). 2703 bytes result sent to driver\n",
    "Finished task 1.0 in stage 0.0 (TID 1). 2703 bytes result sent to driver\n",
    "Finished task 2.0 in stage 0.0 (TID 2). 2703 bytes result sent to driver\n",
    "Finished task 4.0 in stage 0.0 (TID 4). 2703 bytes result sent to driver\n",
    "Finished task 0.0 in stage 0.0 (TID 0). 2703 bytes result sent to driver\n",
    "Finished task 4.0 in stage 1.0 (TID 79). 2685 bytes result sent to driver\n",
    "Finished task 1.0 in stage 1.0 (TID 56). 2428 bytes result sent to driver\n",
    "Finished task 0.0 in stage 1.0 (TID 42). 2474 bytes result sent to driver\n",
    "Finished task 3.0 in stage 1.0 (TID 78). 2651 bytes result sent to driver\n",
    "Finished task 2.0 in stage 1.0 (TID 69). 2523 bytes result sent to driver\n",
    "Finished task 4.0 in stage 2.0 (TID 119). 2087 bytes result sent to driver\n",
    "Finished task 2.0 in stage 2.0 (TID 112). 2087 bytes result sent to driver\n",
    "Finished task 3.0 in stage 2.0 (TID 118). 2087 bytes result sent to driver\n",
    "Finished task 1.0 in stage 2.0 (TID 101). 2087 bytes result sent to driver\n",
    "Finished task 0.0 in stage 2.0 (TID 87). 2087 bytes result sent to driver\n",
    "Finished task 4.0 in stage 3.0 (TID 159). 2667 bytes result sent to driver\n",
    "Finished task 3.0 in stage 3.0 (TID 158). 2667 bytes result sent to driver\n",
    "Finished task 1.0 in stage 3.0 (TID 136). 2667 bytes result sent to driver\n",
    "Finished task 2.0 in stage 3.0 (TID 150). 2667 bytes result sent to driver\n",
    "Finished task 0.0 in stage 3.0 (TID 122). 2667 bytes result sent to driver\n",
    "Finished task 0.0 in stage 4.0 (TID 171). 2099 bytes result sent to driver\n",
    "Finished task 1.0 in stage 4.0 (TID 185). 2099 bytes result sent to driver\n",
    "Finished task 2.0 in stage 4.0 (TID 195). 2138 bytes result sent to driver\n",
    "Finished task 3.0 in stage 4.0 (TID 198). 2099 bytes result sent to driver\n",
    "Finished task 4.0 in stage 4.0 (TID 199). 2138 bytes result sent to driver\n",
    "Finished task 0.0 in stage 5.0 (TID 206). 2198 bytes result sent to driver\n",
    "Finished task 3.0 in stage 5.0 (TID 238). 2198 bytes result sent to driver\n",
    "Finished task 2.0 in stage 5.0 (TID 231). 2198 bytes result sent to driver\n",
    "Finished task 4.0 in stage 5.0 (TID 239). 2198 bytes result sent to driver\n",
    "Finished task 1.0 in stage 5.0 (TID 220). 2272 bytes result sent to driver\n",
    "Finished task 0.0 in stage 6.0 (TID 247). 2087 bytes result sent to driver\n",
    "Finished task 3.0 in stage 6.0 (TID 278). 2087 bytes result sent to driver\n",
    "Finished task 2.0 in stage 6.0 (TID 273). 2087 bytes result sent to driver\n",
    "Finished task 4.0 in stage 6.0 (TID 279). 2087 bytes result sent to driver\n",
    "Finished task 1.0 in stage 6.0 (TID 261). 2087 bytes result sent to driver\n",
    "Finished task 0.0 in stage 7.0 (TID 285). 2667 bytes result sent to driver\n",
    "Finished task 3.0 in stage 7.0 (TID 318). 2667 bytes result sent to driver\n",
    "Finished task 4.0 in stage 7.0 (TID 319). 2667 bytes result sent to driver\n",
    "Finished task 1.0 in stage 7.0 (TID 299). 2667 bytes result sent to driver\n",
    "Finished task 2.0 in stage 7.0 (TID 312). 2667 bytes result sent to driver\n",
    "Finished task 0.0 in stage 8.0 (TID 321). 2141 bytes result sent to driver\n",
    "Finished task 2.0 in stage 8.0 (TID 349). 2141 bytes result sent to driver\n",
    "Finished task 4.0 in stage 8.0 (TID 359). 2141 bytes result sent to driver\n",
    "Finished task 3.0 in stage 8.0 (TID 358). 2141 bytes result sent to driver\n",
    "Finished task 1.0 in stage 8.0 (TID 335). 2111 bytes result sent to driver\n",
    "Finished task 0.0 in stage 9.0 (TID 360). 2239 bytes result sent to driver\n",
    "Finished task 2.0 in stage 9.0 (TID 388). 2239 bytes result sent to driver\n",
    "Finished task 3.0 in stage 9.0 (TID 398). 2239 bytes result sent to driver\n",
    "Finished task 1.0 in stage 9.0 (TID 374). 2298 bytes result sent to driver\n",
    "Finished task 4.0 in stage 9.0 (TID 399). 2239 bytes result sent to driver\n",
    "Finished task 3.0 in stage 10.0 (TID 438). 2087 bytes result sent to driver\n",
    "Finished task 0.0 in stage 10.0 (TID 402). 2087 bytes result sent to driver\n",
    "Finished task 4.0 in stage 10.0 (TID 439). 2087 bytes result sent to driver\n",
    "Finished task 2.0 in stage 10.0 (TID 430). 2087 bytes result sent to driver\n",
    "Finished task 1.0 in stage 10.0 (TID 416). 2087 bytes result sent to driver\n",
    "Finished task 4.0 in stage 11.0 (TID 479). 2667 bytes result sent to driver\n",
    "Finished task 0.0 in stage 11.0 (TID 450). 2667 bytes result sent to driver\n",
    "Finished task 3.0 in stage 11.0 (TID 478). 2667 bytes result sent to driver\n",
    "Finished task 2.0 in stage 11.0 (TID 475). 2667 bytes result sent to driver\n",
    "Finished task 1.0 in stage 11.0 (TID 464). 2667 bytes result sent to driver\n",
    "Finished task 0.0 in stage 12.0 (TID 480). 2155 bytes result sent to driver\n",
    "Finished task 3.0 in stage 12.0 (TID 518). 2155 bytes result sent to driver\n",
    "Finished task 4.0 in stage 12.0 (TID 519). 2155 bytes result sent to driver\n",
    "Finished task 1.0 in stage 12.0 (TID 494). 2105 bytes result sent to driver\n",
    "Finished task 2.0 in stage 12.0 (TID 508). 2155 bytes result sent to driver\n",
    "Finished task 0.0 in stage 13.0 (TID 528). 2256 bytes result sent to driver\n",
    "Finished task 4.0 in stage 13.0 (TID 559). 2241 bytes result sent to driver\n",
    "Finished task 2.0 in stage 13.0 (TID 553). 2241 bytes result sent to driver\n",
    "Finished task 1.0 in stage 13.0 (TID 542). 2241 bytes result sent to driver\n",
    "Finished task 3.0 in stage 13.0 (TID 558). 2257 bytes result sent to driver\n",
    "Finished task 3.0 in stage 14.0 (TID 598). 2087 bytes result sent to driver\n",
    "Finished task 2.0 in stage 14.0 (TID 590). 2087 bytes result sent to driver\n",
    "Finished task 0.0 in stage 14.0 (TID 562). 2087 bytes result sent to driver\n",
    "Finished task 4.0 in stage 14.0 (TID 599). 2087 bytes result sent to driver\n",
    "Finished task 1.0 in stage 14.0 (TID 576). 2087 bytes result sent to driver\n",
    "Finished task 1.0 in stage 15.0 (TID 626). 2667 bytes result sent to driver\n",
    "Finished task 3.0 in stage 15.0 (TID 638). 2667 bytes result sent to driver\n",
    "Finished task 4.0 in stage 15.0 (TID 639). 2667 bytes result sent to driver\n",
    "Finished task 2.0 in stage 15.0 (TID 636). 2667 bytes result sent to driver\n",
    "Finished task 0.0 in stage 15.0 (TID 612). 2667 bytes result sent to driver'''\n",
    "\n",
    "messages = [{\"role\": \"system\", \"content\": instruction_noindex}]\n",
    "messages.append({\"role\": \"user\", \"content\": prompt2})\n",
    "print(get_responce(messages))"
   ]
  },
  {
   "cell_type": "code",
   "execution_count": 9,
   "metadata": {},
   "outputs": [
    {
     "name": "stdout",
     "output_type": "stream",
     "text": [
      "3\n"
     ]
    }
   ],
   "source": [
    "from collections import Counter\n",
    "\n",
    "\n",
    "def most_common(lst):\n",
    "    data = Counter(lst)\n",
    "    return data.most_common(1)[0][0]\n",
    "\n",
    "\n",
    "# 测试\n",
    "lst = [1, 2, 7, 4, 3, 3]\n",
    "print(most_common(lst))"
   ]
  },
  {
   "cell_type": "markdown",
   "metadata": {},
   "source": [
    "Evaluate_gpt"
   ]
  },
  {
   "cell_type": "code",
   "execution_count": 17,
   "metadata": {},
   "outputs": [
    {
     "name": "stdout",
     "output_type": "stream",
     "text": [
      "Precision: 0.9998, Recall: 0.9993, F1_measure: 0.9995, Group Accuracy: 0.9495, Message-Level Accuracy: 0.8160, Edit Distance: 2.6080\n",
      "Precision: 1.0000, Recall: 1.0000, F1_measure: 1.0000, Group Accuracy: 1.0000, Message-Level Accuracy: 0.2695, Edit Distance: 12.6970\n",
      "Precision: 0.9999, Recall: 0.8151, F1_measure: 0.8981, Group Accuracy: 0.4375, Message-Level Accuracy: 0.6270, Edit Distance: 5.0305\n",
      "Precision: 0.7545, Recall: 0.9993, F1_measure: 0.8598, Group Accuracy: 0.7315, Message-Level Accuracy: 0.6270, Edit Distance: 7.3525\n",
      "Precision: 1.0000, Recall: 0.8777, F1_measure: 0.9349, Group Accuracy: 0.5345, Message-Level Accuracy: 0.3635, Edit Distance: 8.5830\n",
      "Precision: 1.0000, Recall: 0.9383, F1_measure: 0.9682, Group Accuracy: 0.4340, Message-Level Accuracy: 0.3130, Edit Distance: 4.1120\n",
      "Precision: 1.0000, Recall: 0.6128, F1_measure: 0.7599, Group Accuracy: 0.5265, Message-Level Accuracy: 0.0255, Edit Distance: 23.2700\n",
      "Precision: 0.5527, Recall: 0.9998, F1_measure: 0.7119, Group Accuracy: 0.6200, Message-Level Accuracy: 0.3975, Edit Distance: 5.2375\n",
      "Precision: 0.9999, Recall: 0.9998, F1_measure: 0.9998, Group Accuracy: 0.9870, Message-Level Accuracy: 0.7810, Edit Distance: 1.0300\n",
      "Precision: 0.9599, Recall: 0.6079, F1_measure: 0.7444, Group Accuracy: 0.8050, Message-Level Accuracy: 0.3620, Edit Distance: 16.8720\n",
      "Precision: 1.0000, Recall: 0.9999, F1_measure: 0.9999, Group Accuracy: 0.9890, Message-Level Accuracy: 0.5870, Edit Distance: 13.9415\n",
      "Precision: 0.6618, Recall: 0.9322, F1_measure: 0.7741, Group Accuracy: 0.5450, Message-Level Accuracy: 0.5510, Edit Distance: 24.7250\n",
      "Precision: 1.0000, Recall: 1.0000, F1_measure: 1.0000, Group Accuracy: 0.9985, Message-Level Accuracy: 0.6000, Edit Distance: 8.7765\n",
      "Precision: 1.0000, Recall: 1.0000, F1_measure: 1.0000, Group Accuracy: 1.0000, Message-Level Accuracy: 0.6935, Edit Distance: 10.2175\n",
      "Precision: 1.0000, Recall: 0.9996, F1_measure: 0.9998, Group Accuracy: 0.9695, Message-Level Accuracy: 0.0955, Edit Distance: 8.3095\n",
      "Precision: 1.0000, Recall: 0.9893, F1_measure: 0.9946, Group Accuracy: 0.9220, Message-Level Accuracy: 0.9350, Edit Distance: 0.8310\n",
      "0.77809375\n",
      "0.50275\n"
     ]
    }
   ],
   "source": [
    "from evaluator import evaluate\n",
    "import pandas as pd\n",
    "datasets = ['BGL', 'HDFS', 'Linux', 'HealthApp', 'OpenStack', 'OpenSSH', 'Proxifier', 'HPC',\n",
    "            'Zookeeper', 'Mac', 'Hadoop', 'Android', 'Windows', 'Apache', 'Thunderbird', 'Spark']\n",
    "m,n,p,q = [],[],[],[]\n",
    "for dataset in datasets:\n",
    "    file = f'outputs/k_means/initial/{dataset}.csv'\n",
    "    # df = pd.read_csv(f'outputs/k_means/initial/{dataset}.csv')\n",
    "    # df2 =\n",
    "    a,b,c,d = evaluate(file, dataset)\n",
    "    m.append(a)\n",
    "    n.append(b)\n",
    "    p.append(c)\n",
    "    q.append(d)\n",
    "\n",
    "print(sum(m)/len(m))\n",
    "print(sum(n)/len(n))"
   ]
  },
  {
   "cell_type": "markdown",
   "metadata": {},
   "source": [
    "验证按' '分词有多少词，以及含数字的词占多少"
   ]
  },
  {
   "cell_type": "code",
   "execution_count": 1,
   "metadata": {},
   "outputs": [
    {
     "name": "stdout",
     "output_type": "stream",
     "text": [
      "109 / 9841\n"
     ]
    }
   ],
   "source": [
    "import re\n",
    "import pandas as pd\n",
    "datasets = ['BGL' ,'HDFS', 'Linux', 'HealthApp', 'OpenStack', 'OpenSSH', 'Proxifier', 'HPC', 'Zookeeper', 'Mac','Hadoop', 'Android', 'Windows', 'Apache', 'Thunderbird', 'Spark']\n",
    "a = 0\n",
    "b = 0\n",
    "list = []\n",
    "list2 = []\n",
    "for dataset in datasets:\n",
    "    df = pd.read_csv(f\"dataset\\{dataset}\\{dataset}_2k.log_templates_corrected.csv\")\n",
    "    list = df['EventTemplate'].tolist()\n",
    "    list2.append(len(list))    \n",
    "    total_words = 0\n",
    "    words_with_numbers = 0\n",
    "\n",
    "    for s in list:\n",
    "        words = s.split()\n",
    "        total_words += len(words)\n",
    "        words_with_numbers += len([word for word in words if re.search(r'\\d', word)])\n",
    "    a+=total_words\n",
    "    b+=words_with_numbers\n",
    "\n",
    "print(f\"{b} / {a}\")"
   ]
  },
  {
   "cell_type": "code",
   "execution_count": 2,
   "metadata": {},
   "outputs": [
    {
     "name": "stdout",
     "output_type": "stream",
     "text": [
      "[120, 14, 116, 75, 43, 26, 8, 46, 50, 341, 114, 158, 50, 6, 149, 36]\n"
     ]
    }
   ],
   "source": [
    "print(list2)"
   ]
  },
  {
   "cell_type": "code",
   "execution_count": 2,
   "metadata": {},
   "outputs": [
    {
     "name": "stdout",
     "output_type": "stream",
     "text": [
      "{'role': 'user', 'content': 'Log: Block broadcast_0 stored as values in memory (estimated size 384.0 B, free 317.5 KB)'}\n"
     ]
    }
   ],
   "source": [
    "import json\n",
    "# load demonstrations\n",
    "with open('demonstrations.json', 'r') as f:\n",
    "    demonstrations = json.load(f)\n",
    "messages = []\n",
    "print(demonstrations['Spark'][0])"
   ]
  },
  {
   "cell_type": "markdown",
   "metadata": {},
   "source": [
    "聚类结果的自定义处理"
   ]
  },
  {
   "cell_type": "code",
   "execution_count": 22,
   "metadata": {},
   "outputs": [
    {
     "name": "stdout",
     "output_type": "stream",
     "text": [
      "['Saved', 'output', 'of', 'task', ',attempt_<*>_m_<*>_r_<*>.', 'to', 'hdfs://<*>/pjhe/test/<*>/_temporary/0/task_<*>_m_<*>_r_<*>']\n",
      "Saved output of task ,<*>. to <*>\n"
     ]
    }
   ],
   "source": [
    "import re\n",
    "\n",
    "def replace_words(str):\n",
    "    words = str.split(' ')\n",
    "    print(words)\n",
    "    for i in range(len(words)):\n",
    "        if words[i].count('<*>') >= 2:\n",
    "            if words[i].startswith('/'):\n",
    "                temp = words[i][1:]\n",
    "            # 保留前后的符号\n",
    "            else:\n",
    "                prefix = '' if not re.match(\n",
    "                    r'^[\\[\\]\\.\\:\\,\\/\\']', words[i]) else words[i][0]\n",
    "                suffix = '' if not re.match(\n",
    "                    r'.*[\\[\\]\\.\\:\\,\\/\\']$', words[i]) else words[i][-1]\n",
    "                temp = prefix + '<*>' + suffix\n",
    "            str = str.replace(words[i], temp)\n",
    "    return str\n",
    "\n",
    "    # zookeeper\n",
    "    # output_str = input_str.replace(' /<*>', ' <*>')\n",
    "\n",
    "# 测试\n",
    "\n",
    "\n",
    "inputs = '''Saved output of task ,attempt_<*>_m_<*>_r_<*>. to hdfs://<*>/pjhe/test/<*>/_temporary/0/task_<*>_m_<*>_r_<*>'''\n",
    "\n",
    "lines = inputs.split('\\n')\n",
    "for line in lines:\n",
    "    print(replace_words(line))"
   ]
  },
  {
   "cell_type": "code",
   "execution_count": 33,
   "metadata": {},
   "outputs": [
    {
     "name": "stdout",
     "output_type": "stream",
     "text": [
      "3\n",
      "[('1', 3), ('3', 3), ('4', 2)]\n"
     ]
    }
   ],
   "source": [
    "from collections import Counter\n",
    "list = ['1','1','1','3','3','3','4','4']\n",
    "words = [word for word in list if re.search(r'\\d', word)]\n",
    "num = len(words)\n",
    "\n",
    "freq = Counter(list)\n",
    "print (len(freq))\n",
    "print(freq.most_common(3))"
   ]
  },
  {
   "cell_type": "code",
   "execution_count": 21,
   "metadata": {},
   "outputs": [
    {
     "name": "stdout",
     "output_type": "stream",
     "text": [
      "ChatCompletion(id='chatcmpl-8gsegeGGp7R5X0cjWY4oLnFg1Rh66', choices=[Choice(finish_reason='stop', index=0, message=ChatCompletionMessage(content='Hello! How can I assist you today?', role='assistant', function_call=None, tool_calls=None))], created=1705230562, model='gpt-4', object='chat.completion', system_fingerprint=None, usage=CompletionUsage(completion_tokens=9, prompt_tokens=8, total_tokens=17))\n"
     ]
    }
   ],
   "source": [
    "from openai import OpenAI\n",
    "import httpx\n",
    "client = OpenAI(\n",
    "    base_url=\"https://4.0.996444.icu/v1\", \n",
    "    api_key=\"sk-1XhqpmIwxu9nCuCD51FcA00948F54eDf9cA4765998Ce8f0d\",\n",
    "    http_client=httpx.Client(\n",
    "        proxies=\"http://127.0.0.1:7890\"  # 代理地址\n",
    "    ),\n",
    ")\n",
    "message_list = [\n",
    "     {\"role\": \"user\", \"content\": \"Hello\"}, \n",
    "    ]\n",
    "\n",
    "response = client.chat.completions.create(\n",
    "    model=\"gpt-4\",\n",
    "    messages=message_list,\n",
    "    temperature=0,\n",
    "    max_tokens=1024\n",
    ")\n",
    "\n",
    "print(response)\n",
    "response = response.choices[0].message.content"
   ]
  },
  {
   "cell_type": "markdown",
   "metadata": {},
   "source": [
    "Adjusted function"
   ]
  },
  {
   "cell_type": "code",
   "execution_count": 27,
   "metadata": {},
   "outputs": [
    {
     "name": "stdout",
     "output_type": "stream",
     "text": [
      "Finished task {{task_id}} in stage {{stage_id}} (TID {{task_tid}}). {{bytes}} bytes result sent to driver\n"
     ]
    }
   ],
   "source": [
    "import re\n",
    "def correct_single_template(template, user_strings=None):\n",
    "    \"\"\"Apply all rules to process a template.\n",
    "\n",
    "    DS (Double Space)\n",
    "    BL (Boolean)\n",
    "    US (User String)\n",
    "    DG (Digit)\n",
    "    PS (Path-like String)\n",
    "    WV (Word concatenated with Variable)\n",
    "    DV (Dot-separated Variables)\n",
    "    CV (Consecutive Variables)\n",
    "\n",
    "    \"\"\"\n",
    "\n",
    "    boolean = {'true', 'false'}\n",
    "    default_strings = {'null', 'root', 'admin'}\n",
    "    path_delimiters = {  # reduced set of delimiters for tokenizing for checking the path-like strings\n",
    "        r'\\s', r'\\,', r'\\!', r'\\;', r'\\:',\n",
    "        r'\\=', r'\\|', r'\\\"', r'\\'',\n",
    "        r'\\[', r'\\]', r'\\(', r'\\)', r'\\{', r'\\}'\n",
    "    }\n",
    "    token_delimiters = path_delimiters.union({  # all delimiters for tokenizing the remaining rules\n",
    "        r'\\.', r'\\-', r'\\+', r'\\@', r'\\#', r'\\$', r'\\%', r'\\&',\n",
    "    })\n",
    "\n",
    "    if user_strings:\n",
    "        default_strings = default_strings.union(user_strings)\n",
    "\n",
    "    # apply DS\n",
    "    template = template.strip()\n",
    "    template = re.sub(r'\\s+', ' ', template)\n",
    "\n",
    "    r'\\{\\{.*?\\}\\}'\n",
    "\n",
    "    # apply PS (Path-like String)\n",
    "    # p_tokens = re.split('(' + '|'.join(path_delimiters) + ')', template)\n",
    "    # new_p_tokens = []\n",
    "    # for p_token in p_tokens:\n",
    "    #     if re.match(r'^(\\/[^\\/]+)+$', p_token):\n",
    "    #         p_token = '<*>'\n",
    "    #     new_p_tokens.append(p_token)\n",
    "    # template = ''.join(new_p_tokens)\n",
    "\n",
    "    # tokenize for the remaining rules\n",
    "    # tokens = re.split('(' + '|'.join(token_delimiters) + ')',\n",
    "    #                   template)  # tokenizing while keeping delimiters\n",
    "    new_tokens = []\n",
    "    for token in tokens:\n",
    "        # apply BL, US\n",
    "        # for to_replace in boolean.union(default_strings):\n",
    "        #     if token.lower() == to_replace.lower():\n",
    "        #         token = '<*>'\n",
    "\n",
    "        # apply DG\n",
    "        # if re.match(r'^\\d+$', token):\n",
    "        #     token = '<*>'\n",
    "\n",
    "        # apply WV\n",
    "        if re.match(r'^[^\\s\\/]*<\\*>[^\\s\\/]*$', token):\n",
    "            if token != '<*>/<*>':  # need to check this because `/` is not a deliminator\n",
    "                token = '<*>'\n",
    "\n",
    "        # collect the result\n",
    "        new_tokens.append(token)\n",
    "\n",
    "    # make the template using new_tokens\n",
    "    template = ''.join(new_tokens)\n",
    "\n",
    "    # Substitute consecutive variables only if separated with any delimiter including \".\" (DV)\n",
    "    while True:\n",
    "        prev = template\n",
    "        template = re.sub(r'<\\*>\\.<\\*>', '<*>', template)\n",
    "        if prev == template:\n",
    "            break\n",
    "\n",
    "    # Substitute consecutive variables only if not separated with any delimiter including space (CV)\n",
    "    # NOTE: this should be done at the end\n",
    "    while True:\n",
    "        prev = template\n",
    "        template = re.sub(r'<\\*><\\*>', '<*>', template)\n",
    "        if prev == template:\n",
    "            break\n",
    "\n",
    "    while \"#<*>#\" in template:\n",
    "        template = template.replace(\"#<*>#\", \"<*>\")\n",
    "\n",
    "    while \"<*>:<*>\" in template:\n",
    "        template = template.replace(\"<*>:<*>\", \"<*>\")\n",
    "    return template\n",
    "\n",
    "def parse_batch_log_template(response, logs=None):\n",
    "    if \"\\n\\n\" in response:\n",
    "        response = response.split(\"\\n\\n\")[0]\n",
    "    reg = re.compile(\"`([^`]+)`\")\n",
    "    tmps = reg.findall(response)\n",
    "    tmps = [x.strip('\\n').strip() for x in tmps]\n",
    "    if len(tmps) == 0:\n",
    "        return ''\n",
    "    elif len(tmps) == 1:\n",
    "        return tmps[0]\n",
    "    else:\n",
    "        return max(tmps, key=len)\n",
    "\n",
    "\n",
    "# `updateLightsLocked,mInCall ={boolean},mScreenOn = {boolean},ledNotification == null?{boolean}`\n",
    "\n",
    "input = '''`Finished task {{task_id}} in stage {{stage_id}} (TID {{task_tid}}). {{bytes}} bytes result sent to driver`'''\n",
    "print(correct_single_template(parse_batch_log_template(input)))\n",
    "# parse_batch_log_template(input)"
   ]
  },
  {
   "cell_type": "code",
   "execution_count": 30,
   "metadata": {},
   "outputs": [
    {
     "data": {
      "text/plain": [
       "':<*>'"
      ]
     },
     "execution_count": 30,
     "metadata": {},
     "output_type": "execute_result"
    }
   ],
   "source": [
    "re.sub(r'(?i)(?<![a-z])true(?![a-z])', '<*>', ':True', flags=re.IGNORECASE)"
   ]
  }
 ],
 "metadata": {
  "kernelspec": {
   "display_name": "langchain38",
   "language": "python",
   "name": "python3"
  },
  "language_info": {
   "codemirror_mode": {
    "name": "ipython",
    "version": 3
   },
   "file_extension": ".py",
   "mimetype": "text/x-python",
   "name": "python",
   "nbconvert_exporter": "python",
   "pygments_lexer": "ipython3",
   "version": "3.8.18"
  }
 },
 "nbformat": 4,
 "nbformat_minor": 2
}
