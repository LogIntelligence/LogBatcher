{
 "cells": [
  {
   "cell_type": "markdown",
   "metadata": {},
   "source": [
    "api call"
   ]
  },
  {
   "cell_type": "code",
   "execution_count": 6,
   "metadata": {},
   "outputs": [
    {
     "name": "stdout",
     "output_type": "stream",
     "text": [
      "ChatCompletion(id='chatcmpl-8f0aYtjIj8IySXCZYSHKBLIyaRytH', choices=[Choice(finish_reason='stop', index=0, message=ChatCompletionMessage(content=\"Hello! Is there anything specific you'd like to chat about today?\", role='assistant', function_call=None, tool_calls=None), logprobs=None)], created=1704784402, model='gpt-3.5-turbo-0613', object='chat.completion', system_fingerprint='fp_cbe4fa03fe', usage=CompletionUsage(completion_tokens=14, prompt_tokens=9, total_tokens=23))\n"
     ]
    }
   ],
   "source": [
    "from openai import OpenAI\n",
    "from tqdm import tqdm\n",
    "import httpx\n",
    "import pandas as pd\n",
    "import openai\n",
    "import backoff\n",
    "\n",
    "api_key = \"sk-ShmyeH9VjAnRuT1S55A71a9fC69640948d20F73bA634C3A5\"\n",
    "client = OpenAI(\n",
    "    base_url=\"https://oneapi.xty.app/v1\",  # 中转url\n",
    "    api_key=api_key,                      # api_key\n",
    "    # http_client=httpx.Client(\n",
    "    #     proxies=\"http://127.0.0.1:7890\"  # 代理地址\n",
    "    # ),\n",
    ")\n",
    "\n",
    "@backoff.on_exception(backoff.expo, (openai.APIStatusError, openai.InternalServerError), max_tries=5)\n",
    "def get_responce(messages):\n",
    "    response = client.chat.completions.create(\n",
    "        model=\"gpt-3.5-turbo\",\n",
    "        messages=messages,\n",
    "    )\n",
    "    return response  # .choices[0].message.content.strip('\\n')\n",
    "\n",
    "\n",
    "messages = [{\"role\": \"user\", \"content\": 'hello world'}]\n",
    "print(get_responce(messages))"
   ]
  },
  {
   "cell_type": "markdown",
   "metadata": {},
   "source": [
    "Evaluate_gpt"
   ]
  },
  {
   "cell_type": "code",
   "execution_count": 1,
   "metadata": {},
   "outputs": [
    {
     "name": "stdout",
     "output_type": "stream",
     "text": [
      "Precision: 0.9738, Recall: 0.5896, F1_measure: 0.7345, Group Accuracy: 0.2385, Message-Level Accuracy: 0.6090, Edit Distance: 1.4800\n"
     ]
    },
    {
     "data": {
      "text/plain": [
       "(0.2385, 0.609, 1.48, 2.9768439663509403)"
      ]
     },
     "execution_count": 1,
     "metadata": {},
     "output_type": "execute_result"
    }
   ],
   "source": [
    "from evaluator import evaluate\n",
    "import pandas as pd\n",
    "dataset = 'Linux'\n",
    "file = f'outputs/enhanced_gpt/1shot/{dataset}.csv'\n",
    "evaluate(file, dataset)"
   ]
  },
  {
   "cell_type": "code",
   "execution_count": 2,
   "metadata": {},
   "outputs": [
    {
     "name": "stdout",
     "output_type": "stream",
     "text": [
      "{'role': 'user', 'content': 'Log: Block broadcast_0 stored as values in memory (estimated size 384.0 B, free 317.5 KB)'}\n"
     ]
    }
   ],
   "source": [
    "import json\n",
    "# load demonstrations\n",
    "with open('demonstrations.json', 'r') as f:\n",
    "    demonstrations = json.load(f)\n",
    "messages = []\n",
    "print(demonstrations['Spark'][0])"
   ]
  }
 ],
 "metadata": {
  "kernelspec": {
   "display_name": "langchain38",
   "language": "python",
   "name": "python3"
  },
  "language_info": {
   "codemirror_mode": {
    "name": "ipython",
    "version": 3
   },
   "file_extension": ".py",
   "mimetype": "text/x-python",
   "name": "python",
   "nbconvert_exporter": "python",
   "pygments_lexer": "ipython3",
   "version": "3.8.18"
  }
 },
 "nbformat": 4,
 "nbformat_minor": 2
}
