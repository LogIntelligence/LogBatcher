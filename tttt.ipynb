{
 "cells": [
  {
   "cell_type": "code",
   "execution_count": 25,
   "metadata": {},
   "outputs": [
    {
     "name": "stdout",
     "output_type": "stream",
     "text": [
      "```\n",
      "ask_<*>_<*>_<*> Task Transitioned from <*> to <*>\n",
      "```\n",
      "```\n",
      "ask_<*>_<*>_<*> Task Transitioned from NEW to SCHEDULED\n",
      "```\n",
      "```\n",
      "ask_<*>_<*>_<*> Task Transitioned from <*> to <*>\n",
      "```\n"
     ]
    }
   ],
   "source": [
    "from openai import OpenAI\n",
    "\n",
    "api_key = 'sk-proj-5EkdZfTfjJ1GJim17pgQT3BlbkFJHCMqWAOX7dTSGOcFOjrn'\n",
    "client = OpenAI(\n",
    "    api_key=api_key,   # api_key\n",
    ")\n",
    "\n",
    "# @backoff.on_exception(backoff.expo, (openai.APIStatusError, openai.InternalServerError), max_tries=5)\n",
    "# @retry(wait=wait_random_exponential(min=1, max=8), stop=stop_after_attempt(20))\n",
    "def chat(messages):\n",
    "    response = client.chat.completions.create(\n",
    "        model='gpt-3.5-turbo-0125',\n",
    "        messages=messages,\n",
    "        temperature=0.0,\n",
    "    )\n",
    "    return response.choices[0].message.content.strip('\\n')\n",
    "            \n",
    "    \n",
    "    \n",
    "instruction = \"You will be provided with a log message. You must abstract variables with `<*>` to extract the corresponding template. There might be no variables in the log message. Giving three possible templates delimited by backticks and separated by line break.\"\n",
    "\n",
    "log = '`ask_1445144423722_0020_m_000000 Task Transitioned from NEW to SCHEDULED`'\n",
    "\n",
    "# invoke LLM\n",
    "\n",
    "messages = [\n",
    "    {\"role\": \"system\", \"content\": instruction},\n",
    "    {\"role\": \"user\", \"content\":  log}\n",
    "]\n",
    "\n",
    "answer = chat(messages)\n",
    "print(answer)\n"
   ]
  },
  {
   "cell_type": "code",
   "execution_count": 26,
   "metadata": {},
   "outputs": [
    {
     "name": "stdout",
     "output_type": "stream",
     "text": [
      "<*> Task Transitioned from <*> to <*>\n"
     ]
    }
   ],
   "source": [
    "from utils.postprocess import  correct_single_template\n",
    "\n",
    "print(correct_single_template('ask_<*>_<*>_<*> Task Transitioned from <*> to <*>'))"
   ]
  },
  {
   "cell_type": "code",
   "execution_count": null,
   "metadata": {},
   "outputs": [],
   "source": [
    "from openai import OpenAI\n",
    "\n",
    "api_key = 'sk-proj-5EkdZfTfjJ1GJim17pgQT3BlbkFJHCMqWAOX7dTSGOcFOjrn'\n",
    "client = OpenAI(\n",
    "    api_key=api_key,   # api_key\n",
    ")\n",
    "\n",
    "# @backoff.on_exception(backoff.expo, (openai.APIStatusError, openai.InternalServerError), max_tries=5)\n",
    "# @retry(wait=wait_random_exponential(min=1, max=8), stop=stop_after_attempt(20))\n",
    "def chat(messages):\n",
    "    response = client.chat.completions.create(\n",
    "        model='gpt-3.5-turbo-0125',\n",
    "        messages=messages,\n",
    "        temperature=0.0,\n",
    "    )\n",
    "    return response.choices[0].message.content.strip('\\n')\n",
    "            \n",
    "    \n",
    "    \n",
    "instruction = \"You will be provided with some log messages separated by line break. You must abstract variables with `{{placeholders}}` to extract the corresponding template. There might be no variables in the log message.\\nGiving three different possible templates delimited by backticks and separated by line break. The variable types contains nums, path, url, timestamp etc.\"\n",
    "\n",
    "log = 'proxy.cse.cuhk.edu.hk:5070 close, 451 bytes sent, 18846 bytes (18.4 KB) received, lifetime <1 sec'\n",
    "\n",
    "# invoke LLM\n",
    "\n",
    "messages = [\n",
    "    {\"role\": \"system\", \"content\": instruction},\n",
    "    {\"role\": \"user\", \"content\":  log}\n",
    "]\n",
    "\n",
    "answer = chat(messages)\n",
    "print(answer)\n"
   ]
  }
 ],
 "metadata": {
  "kernelspec": {
   "display_name": "base",
   "language": "python",
   "name": "python3"
  },
  "language_info": {
   "codemirror_mode": {
    "name": "ipython",
    "version": 3
   },
   "file_extension": ".py",
   "mimetype": "text/x-python",
   "name": "python",
   "nbconvert_exporter": "python",
   "pygments_lexer": "ipython3",
   "version": "3.11.5"
  }
 },
 "nbformat": 4,
 "nbformat_minor": 2
}
