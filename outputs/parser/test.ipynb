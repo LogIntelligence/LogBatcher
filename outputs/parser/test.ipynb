{
 "cells": [
  {
   "cell_type": "code",
   "execution_count": 4,
   "metadata": {},
   "outputs": [],
   "source": [
    "import pandas as pd\n",
    "\n",
    "for i in [5, 15 ,20]:\n",
    "    for dataset in  ['BGL', 'HDFS', 'HealthApp', 'OpenStack', 'OpenSSH', 'HPC', 'Zookeeper','Mac', 'Hadoop', 'Android', 'Windows', 'Apache', 'Thunderbird', 'Spark', 'Linux', 'proxifier']:\n",
    "        df = pd.read_csv(f'LogBatcher_0shot_32candidate_{i}batchsize/{dataset}_2k.log_structured.csv')\n",
    "        if 'Tmps' in df.columns:\n",
    "            df.drop(columns=['Tmps'], inplace=True)\n",
    "\n",
    "            # 将修改后的DataFrame保存回CSV文件\n",
    "            df.to_csv(f'LogBatcher_0shot_32candidate_{i}batchsize/{dataset}_2k.log_structured.csv', index=False)"
   ]
  }
 ],
 "metadata": {
  "kernelspec": {
   "display_name": "base",
   "language": "python",
   "name": "python3"
  },
  "language_info": {
   "codemirror_mode": {
    "name": "ipython",
    "version": 3
   },
   "file_extension": ".py",
   "mimetype": "text/x-python",
   "name": "python",
   "nbconvert_exporter": "python",
   "pygments_lexer": "ipython3",
   "version": "3.11.5"
  }
 },
 "nbformat": 4,
 "nbformat_minor": 2
}
